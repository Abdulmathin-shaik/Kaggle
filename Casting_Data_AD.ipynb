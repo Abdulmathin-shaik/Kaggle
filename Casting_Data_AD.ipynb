{
  "cells": [
    {
      "cell_type": "markdown",
      "metadata": {
        "id": "view-in-github",
        "colab_type": "text"
      },
      "source": [
        "<a href=\"https://colab.research.google.com/github/Abdulmathin-shaik/Kaggle/blob/main/Casting_Data_AD.ipynb\" target=\"_parent\"><img src=\"https://colab.research.google.com/assets/colab-badge.svg\" alt=\"Open In Colab\"/></a>"
      ]
    },
    {
      "source": [
        "# IMPORTANT: RUN THIS CELL IN ORDER TO IMPORT YOUR KAGGLE DATA SOURCES,\n",
        "# THEN FEEL FREE TO DELETE THIS CELL.\n",
        "# NOTE: THIS NOTEBOOK ENVIRONMENT DIFFERS FROM KAGGLE'S PYTHON\n",
        "# ENVIRONMENT SO THERE MAY BE MISSING LIBRARIES USED BY YOUR\n",
        "# NOTEBOOK.\n",
        "import kagglehub\n",
        "ravirajsinh45_real_life_industrial_dataset_of_casting_product_path = kagglehub.dataset_download('ravirajsinh45/real-life-industrial-dataset-of-casting-product')\n",
        "\n",
        "print('Data source import complete.')\n"
      ],
      "metadata": {
        "id": "eh4fY2SBbqvz"
      },
      "cell_type": "code",
      "outputs": [],
      "execution_count": null
    },
    {
      "metadata": {
        "_uuid": "8f2839f25d086af736a60e9eeb907d3b93b6e0e5",
        "_cell_guid": "b1076dfc-b9ad-4769-8c92-a6c4dae69d19",
        "trusted": true,
        "id": "97SGsEkfbqv2"
      },
      "cell_type": "code",
      "source": [
        "# This Python 3 environment comes with many helpful analytics libraries installed\n",
        "# It is defined by the kaggle/python Docker image: https://github.com/kaggle/docker-python\n",
        "# For example, here's several helpful packages to load\n",
        "\n",
        "import numpy as np # linear algebra\n",
        "import pandas as pd # data processing, CSV file I/O (e.g. pd.read_csv)\n",
        "\n",
        "# Input data files are available in the read-only \"../input/\" directory\n",
        "# For example, running this (by clicking run or pressing Shift+Enter) will list all files under the input directory\n",
        "\n",
        "import os\n",
        "for dirname, _, filenames in os.walk('/kaggle/input'):\n",
        "    for filename in filenames:\n",
        "        print(os.path.join(dirname, filename))\n",
        "\n",
        "# You can write up to 20GB to the current directory (/kaggle/working/) that gets preserved as output when you create a version using \"Save & Run All\"\n",
        "# You can also write temporary files to /kaggle/temp/, but they won't be saved outside of the current session"
      ],
      "execution_count": null,
      "outputs": []
    },
    {
      "cell_type": "code",
      "source": [
        "pip install faiss-gpu-cu12"
      ],
      "metadata": {
        "id": "USz-OHLnbucZ"
      },
      "execution_count": null,
      "outputs": []
    },
    {
      "cell_type": "code",
      "source": [
        "\n",
        "import torch\n",
        "import torch.nn as nn\n",
        "import torchvision.models as models\n",
        "import torchvision.transforms as transforms\n",
        "from torch.utils.data import Dataset, DataLoader\n",
        "import numpy as np\n",
        "import os\n",
        "from PIL import Image\n",
        "import faiss  # For efficient nearest-neighbor search\n",
        "import matplotlib.pyplot as plt\n",
        "\n",
        "# Set random seed for reproducibility\n",
        "torch.manual_seed(42)\n",
        "np.random.seed(42)\n",
        "device = torch.device(\"cuda\" if torch.cuda.is_available() else \"cpu\")"
      ],
      "metadata": {
        "id": "pt2GiCpsbvAm"
      },
      "execution_count": null,
      "outputs": []
    },
    {
      "cell_type": "code",
      "source": [
        "import os\n",
        "from PIL import Image\n",
        "from torch.utils.data import Dataset, DataLoader\n",
        "import torchvision.transforms as transforms\n",
        "\n",
        "class IndustrialCastingDataset(Dataset):\n",
        "    def __init__(self, category=\"casting\", phase=\"train\", img_size=(224, 224)):\n",
        "        self.phase = phase\n",
        "        self.transform = transforms.Compose([\n",
        "            transforms.Resize(img_size),\n",
        "            transforms.ToTensor(),\n",
        "            transforms.Normalize(mean=[0.485, 0.456, 0.406], std=[0.229, 0.224, 0.225]),  # ImageNet stats\n",
        "        ])\n",
        "        base_path = r\"/kaggle/input/real-life-industrial-dataset-of-casting-product/casting_data/casting_data\"  # Replace with your dataset path\n",
        "        data_path = os.path.join(base_path, phase)\n",
        "        self.images = []\n",
        "        self.labels = []\n",
        "        for label in [\"ok_front\", \"def_front\"]:\n",
        "            label_path = os.path.join(data_path, label)\n",
        "            for img_name in os.listdir(label_path):\n",
        "                self.images.append(os.path.join(label_path, img_name))\n",
        "                self.labels.append(0 if label == \"ok_front\" else 1)  # 0: normal, 1: anomaly\n",
        "\n",
        "    def __len__(self):\n",
        "        return len(self.images)\n",
        "\n",
        "    def __getitem__(self, idx):\n",
        "        img_path = self.images[idx]\n",
        "        label = self.labels[idx]\n",
        "        img = Image.open(img_path).convert(\"RGB\")\n",
        "        img = self.transform(img)\n",
        "        return img, label\n",
        "\n",
        "# Load datasets\n",
        "train_dataset = IndustrialCastingDataset(category=\"casting\", phase=\"train\")\n",
        "test_dataset = IndustrialCastingDataset(category=\"casting\", phase=\"test\")\n",
        "train_loader = DataLoader(train_dataset, batch_size=32, shuffle=True)\n",
        "test_loader = DataLoader(test_dataset, batch_size=1, shuffle=False)"
      ],
      "metadata": {
        "id": "aq2YFTNsbw3j"
      },
      "execution_count": null,
      "outputs": []
    },
    {
      "cell_type": "code",
      "source": [
        "class PatchCore:\n",
        "    def __init__(self, backbone=\"wide_resnet50_2\", patch_size=3, sample_ratio=0.1):\n",
        "        # Load pre-trained backbone\n",
        "        self.model = models.__getattribute__(backbone)(pretrained=True).to(device)\n",
        "        self.model.eval()\n",
        "        self.patch_size = patch_size\n",
        "        self.sample_ratio = sample_ratio\n",
        "        self.memory_bank = None\n",
        "\n",
        "        # Hook to extract intermediate features (e.g., layer2 of WideResNet)\n",
        "        self.features = []\n",
        "        def hook(module, input, output):\n",
        "            self.features.append(output)\n",
        "        self.model.layer2.register_forward_hook(hook)\n",
        "\n",
        "    def extract_patches(self, x):\n",
        "        with torch.no_grad():\n",
        "            self.features = []\n",
        "            _ = self.model(x)\n",
        "            features = self.features[0]  # Shape: (B, C, H, W)\n",
        "            B, C, H, W = features.shape\n",
        "            unfold = nn.Unfold(kernel_size=self.patch_size, stride=self.patch_size)\n",
        "            patches = unfold(features).transpose(1, 2)  # Shape: (B, N_patches, C*patch_size^2)\n",
        "            return patches.reshape(B, -1, C, self.patch_size, self.patch_size)\n",
        "\n",
        "    def build_memory_bank(self, loader):\n",
        "        all_patches = []\n",
        "        for images, _ in loader:\n",
        "            images = images.to(device)\n",
        "            patches = self.extract_patches(images)  # (B, N_patches, C, P, P)\n",
        "            patches = patches.mean(dim=(3, 4))  # Average over spatial dimensions\n",
        "            all_patches.append(patches.cpu().numpy())\n",
        "\n",
        "        all_patches = np.concatenate(all_patches, axis=0)  # (N_total, N_patches, C)\n",
        "        all_patches = all_patches.reshape(-1, all_patches.shape[-1])  # (N_total * N_patches, C)\n",
        "\n",
        "        # Subsample patches for efficiency\n",
        "        n_samples = int(self.sample_ratio * len(all_patches))\n",
        "        indices = np.random.choice(len(all_patches), n_samples, replace=False)\n",
        "        self.memory_bank = all_patches[indices]\n",
        "\n",
        "        # Build FAISS index for fast nearest-neighbor search\n",
        "        self.index = faiss.IndexFlatL2(self.memory_bank.shape[1])\n",
        "        self.index.add(self.memory_bank)\n",
        "\n",
        "    def detect_anomaly(self, image):\n",
        "        image = image.to(device)\n",
        "        patches = self.extract_patches(image)  # (1, N_patches, C, P, P)\n",
        "        patches = patches.mean(dim=(3, 4)).cpu().numpy()  # (1, N_patches, C)\n",
        "        patches = patches.reshape(-1, patches.shape[-1])  # (N_patches, C)\n",
        "\n",
        "        # Compute anomaly score (max distance to nearest neighbor in memory bank)\n",
        "        distances, _ = self.index.search(patches, 1)\n",
        "        anomaly_score = distances.max()\n",
        "        return anomaly_score\n",
        "\n",
        "# Initialize PatchCore\n",
        "patchcore = PatchCore()"
      ],
      "metadata": {
        "id": "QeOF651Hbyr7"
      },
      "execution_count": null,
      "outputs": []
    },
    {
      "cell_type": "code",
      "source": [
        "# Build memory bank from normal images\n",
        "print(\"Building memory bank...\")\n",
        "patchcore.build_memory_bank(train_loader)"
      ],
      "metadata": {
        "id": "6wPjlDCfb2VX"
      },
      "execution_count": null,
      "outputs": []
    },
    {
      "cell_type": "code",
      "source": [
        "# Evaluate on test set\n",
        "threshold = None  # Set dynamically or via validation\n",
        "scores = []\n",
        "labels = []\n",
        "for image, label in test_loader:\n",
        "    score = patchcore.detect_anomaly(image)\n",
        "    scores.append(score)\n",
        "    labels.append(label.item())\n",
        "\n",
        "# Simple threshold-based evaluation (tune threshold for best AUC)\n",
        "scores = np.array(scores)\n",
        "labels = np.array(labels)\n",
        "if threshold is None:  # Example: set threshold as 95th percentile of training scores\n",
        "    train_scores = [patchcore.detect_anomaly(image) for image, _ in train_loader]\n",
        "    threshold = np.percentile(train_scores, 95)\n",
        "\n",
        "predictions = (scores > threshold).astype(int)\n",
        "accuracy = np.mean(predictions == labels)\n",
        "print(f\"Accuracy: {accuracy:.4f}\")\n",
        "\n",
        "# Optional: Compute AUC for better evaluation\n",
        "from sklearn.metrics import roc_auc_score\n",
        "auc = roc_auc_score(labels, scores)\n",
        "print(f\"AUC: {auc:.4f}\")"
      ],
      "metadata": {
        "id": "uEZUvr7Ob2yc"
      },
      "execution_count": null,
      "outputs": []
    },
    {
      "cell_type": "code",
      "source": [
        "import matplotlib.pyplot as plt\n",
        "import random\n",
        "import torch\n",
        "import numpy as np\n",
        "\n",
        "# Define a threshold for anomaly detection\n",
        "threshold = 0.5  # Adjust this threshold based on your specific use case and dataset\n",
        "\n",
        "# Visualize random images from the test set with original and prediction labels\n",
        "num_images_to_show = 5  # Adjust as needed\n",
        "random_indices = random.sample(range(len(test_dataset)), num_images_to_show)\n",
        "\n",
        "fig, axes = plt.subplots(1, num_images_to_show, figsize=(15, 5))\n",
        "\n",
        "for i, idx in enumerate(random_indices):\n",
        "    image, original_label = test_dataset[idx]\n",
        "    image = image.unsqueeze(0)  # Add batch dimension\n",
        "    prediction_score = patchcore.detect_anomaly(image)\n",
        "    prediction_label = 1 if prediction_score > threshold else 0  # Define a threshold for anomaly detection\n",
        "\n",
        "    image = image.squeeze(0).permute(1, 2, 0)  # Reshape for display\n",
        "    image = image * torch.tensor([0.229, 0.224, 0.225]) + torch.tensor([0.485, 0.456, 0.406])  # Denormalize\n",
        "    image = np.clip(image.numpy(), 0, 1)  # Clip values to be within the valid range\n",
        "\n",
        "    axes[i].imshow(image)\n",
        "    axes[i].set_title(f\"Original: {'Good' if original_label == 0 else 'Anomalous'}\\nPrediction: {'Good' if prediction_label == 0 else 'Anomalous'}\")\n",
        "    axes[i].axis('off')\n",
        "\n",
        "plt.show()"
      ],
      "metadata": {
        "id": "xBc0-hGGb4ZP"
      },
      "execution_count": null,
      "outputs": []
    },
    {
      "cell_type": "markdown",
      "source": [
        "Other back bones"
      ],
      "metadata": {
        "id": "sG4Tj8n1b_A9"
      }
    },
    {
      "cell_type": "code",
      "source": [
        "import torch\n",
        "import torch.nn as nn\n",
        "import torchvision.models as models\n",
        "import numpy as np\n",
        "import faiss\n",
        "\n",
        "class PatchCore:\n",
        "    def __init__(self, backbone=\"resnet101\", patch_size=3, sample_ratio=0.1):\n",
        "        # Load pre-trained backbone\n",
        "        self.model = models.__getattribute__(backbone)(pretrained=True).to(device)\n",
        "        self.model.eval()\n",
        "        self.patch_size = patch_size\n",
        "        self.sample_ratio = sample_ratio\n",
        "        self.memory_bank = None\n",
        "\n",
        "        # Hook to extract intermediate features\n",
        "        self.features = []\n",
        "        def hook(module, input, output):\n",
        "            self.features.append(output)\n",
        "\n",
        "        # Register hook based on the backbone\n",
        "        if backbone.startswith(\"resnet\"):\n",
        "            self.model.layer2.register_forward_hook(hook)\n",
        "        elif backbone.startswith(\"efficientnet\"):\n",
        "            self.model.features[6].register_forward_hook(hook)  # Adjust layer index as needed\n",
        "\n",
        "    def extract_patches(self, x):\n",
        "        with torch.no_grad():\n",
        "            self.features = []\n",
        "            _ = self.model(x)\n",
        "            features = self.features[0]  # Shape: (B, C, H, W)\n",
        "            B, C, H, W = features.shape\n",
        "            unfold = nn.Unfold(kernel_size=self.patch_size, stride=self.patch_size)\n",
        "            patches = unfold(features).transpose(1, 2)  # Shape: (B, N_patches, C*patch_size^2)\n",
        "            return patches.reshape(B, -1, C, self.patch_size, self.patch_size)\n",
        "\n",
        "    def build_memory_bank(self, loader):\n",
        "        all_patches = []\n",
        "        for images, _ in loader:\n",
        "            images = images.to(device)\n",
        "            patches = self.extract_patches(images)  # (B, N_patches, C, P, P)\n",
        "            patches = patches.mean(dim=(3, 4))  # Average over spatial dimensions\n",
        "            all_patches.append(patches.cpu().numpy())\n",
        "\n",
        "        all_patches = np.concatenate(all_patches, axis=0)  # (N_total, N_patches, C)\n",
        "        all_patches = all_patches.reshape(-1, all_patches.shape[-1])  # (N_total * N_patches, C)\n",
        "\n",
        "        # Subsample patches for efficiency\n",
        "        n_samples = int(self.sample_ratio * len(all_patches))\n",
        "        indices = np.random.choice(len(all_patches), n_samples, replace=False)\n",
        "        self.memory_bank = all_patches[indices]\n",
        "\n",
        "        # Build FAISS index for fast nearest-neighbor search\n",
        "        self.index = faiss.IndexFlatL2(self.memory_bank.shape[1])\n",
        "        self.index.add(self.memory_bank)\n",
        "\n",
        "    def detect_anomaly(self, image):\n",
        "        image = image.to(device)\n",
        "        patches = self.extract_patches(image)  # (1, N_patches, C, P, P)\n",
        "        patches = patches.mean(dim=(3, 4)).cpu().numpy()  # (1, N_patches, C)\n",
        "        patches = patches.reshape(-1, patches.shape[-1])  # (N_patches, C)\n",
        "\n",
        "        # Compute anomaly score (max distance to nearest neighbor in memory bank)\n",
        "        distances, _ = self.index.search(patches, 1)\n",
        "        anomaly_score = distances.max()\n",
        "        return anomaly_score\n",
        "\n",
        "# Initialize PatchCore with resnet101\n",
        "patchcore_resnet101 = PatchCore(backbone=\"resnet101\")\n",
        "\n",
        "# Initialize PatchCore with efficientnet_b4\n",
        "patchcore_efficientnet_b4 = PatchCore(backbone=\"efficientnet_b4\")"
      ],
      "metadata": {
        "id": "odO12g04b7ii"
      },
      "execution_count": null,
      "outputs": []
    },
    {
      "cell_type": "code",
      "source": [
        "# Build memory bank from normal images\n",
        "print(\"Building memory bank...\")\n",
        "patchcore_resnet101.build_memory_bank(train_loader)"
      ],
      "metadata": {
        "id": "s7dlhV4KcAn7"
      },
      "execution_count": null,
      "outputs": []
    },
    {
      "cell_type": "code",
      "source": [
        "# Build memory bank from normal images\n",
        "print(\"Building memory bank...\")\n",
        "patchcore_efficientnet_b4.build_memory_bank(train_loader)"
      ],
      "metadata": {
        "id": "PFJvKtI0cDWt"
      },
      "execution_count": null,
      "outputs": []
    },
    {
      "cell_type": "code",
      "source": [
        "# Evaluate on test set\n",
        "threshold = None  # Set dynamically or via validation\n",
        "scores = []\n",
        "labels = []\n",
        "for image, label in test_loader:\n",
        "    score = patchcore_resnet101.detect_anomaly(image)\n",
        "    scores.append(score)\n",
        "    labels.append(label.item())\n",
        "\n",
        "# Simple threshold-based evaluation (tune threshold for best AUC)\n",
        "scores = np.array(scores)\n",
        "labels = np.array(labels)\n",
        "if threshold is None:  # Example: set threshold as 95th percentile of training scores\n",
        "    train_scores = [patchcore_resnet101.detect_anomaly(image) for image, _ in train_loader]\n",
        "    threshold = np.percentile(train_scores, 95)\n",
        "\n",
        "predictions = (scores > threshold).astype(int)\n",
        "accuracy = np.mean(predictions == labels)\n",
        "print(f\"Accuracy: {accuracy:.4f}\")\n",
        "\n",
        "# Optional: Compute AUC for better evaluation\n",
        "from sklearn.metrics import roc_auc_score\n",
        "auc = roc_auc_score(labels, scores)\n",
        "print(f\"AUC: {auc:.4f}\")"
      ],
      "metadata": {
        "id": "L1TVsVrmcEuC"
      },
      "execution_count": null,
      "outputs": []
    },
    {
      "cell_type": "code",
      "source": [
        "# Evaluate on test set\n",
        "threshold = None  # Set dynamically or via validation\n",
        "scores = []\n",
        "labels = []\n",
        "for image, label in test_loader:\n",
        "    score = patchcore_efficientnet_b4.detect_anomaly(image)\n",
        "    scores.append(score)\n",
        "    labels.append(label.item())\n",
        "\n",
        "# Simple threshold-based evaluation (tune threshold for best AUC)\n",
        "scores = np.array(scores)\n",
        "labels = np.array(labels)\n",
        "if threshold is None:  # Example: set threshold as 95th percentile of training scores\n",
        "    train_scores = [patchcore_efficientnet_b4.detect_anomaly(image) for image, _ in train_loader]\n",
        "    threshold = np.percentile(train_scores, 95)\n",
        "\n",
        "predictions = (scores > threshold).astype(int)\n",
        "accuracy = np.mean(predictions == labels)\n",
        "print(f\"Accuracy: {accuracy:.4f}\")\n",
        "\n",
        "# Optional: Compute AUC for better evaluation\n",
        "from sklearn.metrics import roc_auc_score\n",
        "auc = roc_auc_score(labels, scores)\n",
        "print(f\"AUC: {auc:.4f}\")"
      ],
      "metadata": {
        "id": "cVsZNGjEcL0e"
      },
      "execution_count": null,
      "outputs": []
    }
  ],
  "metadata": {
    "kernelspec": {
      "language": "python",
      "display_name": "Python 3",
      "name": "python3"
    },
    "language_info": {
      "pygments_lexer": "ipython3",
      "nbconvert_exporter": "python",
      "version": "3.6.4",
      "file_extension": ".py",
      "codemirror_mode": {
        "name": "ipython",
        "version": 3
      },
      "name": "python",
      "mimetype": "text/x-python"
    },
    "colab": {
      "name": "Casting Data AD",
      "provenance": [],
      "include_colab_link": true
    }
  },
  "nbformat": 4,
  "nbformat_minor": 0
}