{
 "cells": [
  {
   "cell_type": "code",
   "execution_count": 1,
   "id": "35271d2b",
   "metadata": {
    "_cell_guid": "b1076dfc-b9ad-4769-8c92-a6c4dae69d19",
    "_uuid": "8f2839f25d086af736a60e9eeb907d3b93b6e0e5",
    "execution": {
     "iopub.execute_input": "2025-08-12T21:41:21.320510Z",
     "iopub.status.busy": "2025-08-12T21:41:21.320217Z",
     "iopub.status.idle": "2025-08-12T21:41:23.304568Z",
     "shell.execute_reply": "2025-08-12T21:41:23.303785Z"
    },
    "papermill": {
     "duration": 1.991561,
     "end_time": "2025-08-12T21:41:23.306045",
     "exception": false,
     "start_time": "2025-08-12T21:41:21.314484",
     "status": "completed"
    },
    "tags": []
   },
   "outputs": [],
   "source": [
    "# This Python 3 environment comes with many helpful analytics libraries installed\n",
    "# It is defined by the kaggle/python Docker image: https://github.com/kaggle/docker-python\n",
    "# For example, here's several helpful packages to load\n",
    "\n",
    "import numpy as np # linear algebra\n",
    "import pandas as pd # data processing, CSV file I/O (e.g. pd.read_csv)\n",
    "\n",
    "# Input data files are available in the read-only \"../input/\" directory\n",
    "# For example, running this (by clicking run or pressing Shift+Enter) will list all files under the input directory\n",
    "\n",
    "import os\n",
    "# for dirname, _, filenames in os.walk('/kaggle/input'):\n",
    "#     for filename in filenames:\n",
    "#         print(os.path.join(dirname, filename))\n",
    "\n",
    "# You can write up to 20GB to the current directory (/kaggle/working/) that gets preserved as output when you create a version using \"Save & Run All\" \n",
    "# You can also write temporary files to /kaggle/temp/, but they won't be saved outside of the current session"
   ]
  },
  {
   "cell_type": "code",
   "execution_count": 2,
   "id": "403f0816",
   "metadata": {
    "execution": {
     "iopub.execute_input": "2025-08-12T21:41:23.315296Z",
     "iopub.status.busy": "2025-08-12T21:41:23.314972Z",
     "iopub.status.idle": "2025-08-12T21:41:38.830775Z",
     "shell.execute_reply": "2025-08-12T21:41:38.830102Z"
    },
    "papermill": {
     "duration": 15.521838,
     "end_time": "2025-08-12T21:41:38.832208",
     "exception": false,
     "start_time": "2025-08-12T21:41:23.310370",
     "status": "completed"
    },
    "tags": []
   },
   "outputs": [],
   "source": [
    "import torch\n",
    "import torch.nn as nn\n",
    "import cv2\n",
    "import matplotlib.pyplot as plt\n",
    "import torchvision.transforms as transforms\n",
    "from torch.utils.data import DataLoader\n",
    "from torchvision.datasets import ImageFolder\n",
    "import torch.optim as optim"
   ]
  },
  {
   "cell_type": "code",
   "execution_count": 3,
   "id": "53ce3b5a",
   "metadata": {
    "execution": {
     "iopub.execute_input": "2025-08-12T21:41:38.841904Z",
     "iopub.status.busy": "2025-08-12T21:41:38.841105Z",
     "iopub.status.idle": "2025-08-12T21:41:38.844906Z",
     "shell.execute_reply": "2025-08-12T21:41:38.844373Z"
    },
    "papermill": {
     "duration": 0.009506,
     "end_time": "2025-08-12T21:41:38.846032",
     "exception": false,
     "start_time": "2025-08-12T21:41:38.836526",
     "status": "completed"
    },
    "tags": []
   },
   "outputs": [],
   "source": [
    "root = '/kaggle/input/mvtec-ad'\n",
    "category = 'cable'\n",
    "dataset = os.path.join(root,category)\n",
    "train_dataset = os.path.join(dataset,'train')\n",
    "test_dataset = os.path.join(dataset,'test')"
   ]
  },
  {
   "cell_type": "code",
   "execution_count": 4,
   "id": "35ee2eda",
   "metadata": {
    "execution": {
     "iopub.execute_input": "2025-08-12T21:41:38.854658Z",
     "iopub.status.busy": "2025-08-12T21:41:38.854251Z",
     "iopub.status.idle": "2025-08-12T21:41:38.858671Z",
     "shell.execute_reply": "2025-08-12T21:41:38.857933Z"
    },
    "papermill": {
     "duration": 0.009947,
     "end_time": "2025-08-12T21:41:38.859835",
     "exception": false,
     "start_time": "2025-08-12T21:41:38.849888",
     "status": "completed"
    },
    "tags": []
   },
   "outputs": [],
   "source": [
    "#Image processing\n",
    "transform_func = transforms.Compose([\n",
    "    transforms.Resize((128,128)),\n",
    "    transforms.RandomHorizontalFlip(),\n",
    "    transforms.RandomRotation(10),\n",
    "    transforms.ToTensor(),\n",
    "    transforms.Normalize(mean=[0.485, 0.456, 0.406], std=[0.229, 0.224, 0.225])\n",
    "])\n",
    "\n",
    "test_transform_func = transforms.Compose([\n",
    "transforms.Resize((128,128)),\n",
    "transforms.ToTensor()\n",
    "])"
   ]
  },
  {
   "cell_type": "code",
   "execution_count": 5,
   "id": "79359f98",
   "metadata": {
    "execution": {
     "iopub.execute_input": "2025-08-12T21:41:38.868327Z",
     "iopub.status.busy": "2025-08-12T21:41:38.868093Z",
     "iopub.status.idle": "2025-08-12T21:41:39.470703Z",
     "shell.execute_reply": "2025-08-12T21:41:39.470106Z"
    },
    "papermill": {
     "duration": 0.608196,
     "end_time": "2025-08-12T21:41:39.472051",
     "exception": false,
     "start_time": "2025-08-12T21:41:38.863855",
     "status": "completed"
    },
    "tags": []
   },
   "outputs": [],
   "source": [
    "#load_dataset\n",
    "train_dataset = ImageFolder(root=train_dataset,transform=transform_func)\n",
    "test_dataset = ImageFolder(root=test_dataset,transform=test_transform_func)"
   ]
  },
  {
   "cell_type": "code",
   "execution_count": 6,
   "id": "b3ea1be7",
   "metadata": {
    "execution": {
     "iopub.execute_input": "2025-08-12T21:41:39.481493Z",
     "iopub.status.busy": "2025-08-12T21:41:39.481001Z",
     "iopub.status.idle": "2025-08-12T21:41:39.486311Z",
     "shell.execute_reply": "2025-08-12T21:41:39.485595Z"
    },
    "papermill": {
     "duration": 0.010953,
     "end_time": "2025-08-12T21:41:39.487449",
     "exception": false,
     "start_time": "2025-08-12T21:41:39.476496",
     "status": "completed"
    },
    "tags": []
   },
   "outputs": [
    {
     "data": {
      "text/plain": [
       "Dataset ImageFolder\n",
       "    Number of datapoints: 224\n",
       "    Root location: /kaggle/input/mvtec-ad/cable/train\n",
       "    StandardTransform\n",
       "Transform: Compose(\n",
       "               Resize(size=(128, 128), interpolation=bilinear, max_size=None, antialias=True)\n",
       "               RandomHorizontalFlip(p=0.5)\n",
       "               RandomRotation(degrees=[-10.0, 10.0], interpolation=nearest, expand=False, fill=0)\n",
       "               ToTensor()\n",
       "               Normalize(mean=[0.485, 0.456, 0.406], std=[0.229, 0.224, 0.225])\n",
       "           )"
      ]
     },
     "execution_count": 6,
     "metadata": {},
     "output_type": "execute_result"
    }
   ],
   "source": [
    "train_dataset"
   ]
  },
  {
   "cell_type": "code",
   "execution_count": 7,
   "id": "ee8c0b2e",
   "metadata": {
    "execution": {
     "iopub.execute_input": "2025-08-12T21:41:39.496519Z",
     "iopub.status.busy": "2025-08-12T21:41:39.496309Z",
     "iopub.status.idle": "2025-08-12T21:41:39.500573Z",
     "shell.execute_reply": "2025-08-12T21:41:39.499961Z"
    },
    "papermill": {
     "duration": 0.010143,
     "end_time": "2025-08-12T21:41:39.501537",
     "exception": false,
     "start_time": "2025-08-12T21:41:39.491394",
     "status": "completed"
    },
    "tags": []
   },
   "outputs": [
    {
     "data": {
      "text/plain": [
       "Dataset ImageFolder\n",
       "    Number of datapoints: 150\n",
       "    Root location: /kaggle/input/mvtec-ad/cable/test\n",
       "    StandardTransform\n",
       "Transform: Compose(\n",
       "               Resize(size=(128, 128), interpolation=bilinear, max_size=None, antialias=True)\n",
       "               ToTensor()\n",
       "           )"
      ]
     },
     "execution_count": 7,
     "metadata": {},
     "output_type": "execute_result"
    }
   ],
   "source": [
    "test_dataset"
   ]
  },
  {
   "cell_type": "code",
   "execution_count": 8,
   "id": "13b06f7a",
   "metadata": {
    "execution": {
     "iopub.execute_input": "2025-08-12T21:41:39.510090Z",
     "iopub.status.busy": "2025-08-12T21:41:39.509911Z",
     "iopub.status.idle": "2025-08-12T21:41:39.513478Z",
     "shell.execute_reply": "2025-08-12T21:41:39.512929Z"
    },
    "papermill": {
     "duration": 0.008885,
     "end_time": "2025-08-12T21:41:39.514440",
     "exception": false,
     "start_time": "2025-08-12T21:41:39.505555",
     "status": "completed"
    },
    "tags": []
   },
   "outputs": [],
   "source": [
    "#loader\n",
    "train_loader = DataLoader(train_dataset,batch_size=32,shuffle=True)\n",
    "test_loader = DataLoader(test_dataset,batch_size=16,shuffle=False)"
   ]
  },
  {
   "cell_type": "code",
   "execution_count": 9,
   "id": "1329df48",
   "metadata": {
    "execution": {
     "iopub.execute_input": "2025-08-12T21:41:39.522816Z",
     "iopub.status.busy": "2025-08-12T21:41:39.522622Z",
     "iopub.status.idle": "2025-08-12T21:41:39.693104Z",
     "shell.execute_reply": "2025-08-12T21:41:39.692565Z"
    },
    "papermill": {
     "duration": 0.175918,
     "end_time": "2025-08-12T21:41:39.694233",
     "exception": false,
     "start_time": "2025-08-12T21:41:39.518315",
     "status": "completed"
    },
    "tags": []
   },
   "outputs": [],
   "source": [
    "image,label = train_dataset[20]"
   ]
  },
  {
   "cell_type": "code",
   "execution_count": 10,
   "id": "08278004",
   "metadata": {
    "execution": {
     "iopub.execute_input": "2025-08-12T21:41:39.703108Z",
     "iopub.status.busy": "2025-08-12T21:41:39.702698Z",
     "iopub.status.idle": "2025-08-12T21:41:40.058596Z",
     "shell.execute_reply": "2025-08-12T21:41:40.057827Z"
    },
    "papermill": {
     "duration": 0.363715,
     "end_time": "2025-08-12T21:41:40.062046",
     "exception": false,
     "start_time": "2025-08-12T21:41:39.698331",
     "status": "completed"
    },
    "tags": []
   },
   "outputs": [
    {
     "data": {
      "text/plain": [
       "<matplotlib.image.AxesImage at 0x7ae39d773790>"
      ]
     },
     "execution_count": 10,
     "metadata": {},
     "output_type": "execute_result"
    },
    {
     "data": {
      "image/png": "[encoded data removed]",
      "text/plain": [
       "<Figure size 640x480 with 1 Axes>"
      ]
     },
     "metadata": {},
     "output_type": "display_data"
    }
   ],
   "source": [
    "plt.imshow(image.permute(1,2,0).numpy())"
   ]
  },
  {
   "cell_type": "code",
   "execution_count": 11,
   "id": "efa50eef",
   "metadata": {
    "execution": {
     "iopub.execute_input": "2025-08-12T21:41:40.075016Z",
     "iopub.status.busy": "2025-08-12T21:41:40.074801Z",
     "iopub.status.idle": "2025-08-12T21:41:40.081565Z",
     "shell.execute_reply": "2025-08-12T21:41:40.081047Z"
    },
    "papermill": {
     "duration": 0.014425,
     "end_time": "2025-08-12T21:41:40.082667",
     "exception": false,
     "start_time": "2025-08-12T21:41:40.068242",
     "status": "completed"
    },
    "tags": []
   },
   "outputs": [],
   "source": [
    "#AE\n",
    "class AE(nn.Module):\n",
    "    def __init__(self):\n",
    "        super(AE,self).__init__()\n",
    "        #Encoder \n",
    "        self.encoder = nn.Sequential(\n",
    "            nn.Conv2d(3,16,kernel_size=3,stride=1,padding=1),\n",
    "            nn.ReLU(),\n",
    "            nn.MaxPool2d(2,2),\n",
    "            nn.Conv2d(16,32,kernel_size=3,stride=1,padding=1),\n",
    "            nn.ReLU(),\n",
    "            nn.MaxPool2d(2,2),\n",
    "            nn.Dropout(0.2),\n",
    "            nn.Conv2d(32,64,kernel_size=3,stride=1,padding=1),\n",
    "            nn.ReLU(),\n",
    "            nn.MaxPool2d(2,2),\n",
    "            nn.Dropout(0.2),\n",
    "        )\n",
    "        #Bottleneck\n",
    "        self.bottleneck = nn.Conv2d(64,128,3,1,1)\n",
    "        self.decoder = nn.Sequential(\n",
    "            nn.Conv2d(128,64,kernel_size=3,stride=1,padding=1),\n",
    "            nn.ReLU(),\n",
    "            nn.Upsample(scale_factor=2),\n",
    "            nn.Conv2d(64,32,kernel_size=3,stride=1,padding=1),\n",
    "            nn.ReLU(),\n",
    "            nn.Upsample(scale_factor=2),\n",
    "            nn.Conv2d(32,16,kernel_size=3,stride=1,padding=1),\n",
    "            nn.ReLU(),\n",
    "            nn.Upsample(scale_factor=2),\n",
    "            nn.Conv2d(16,3,3,1,1),\n",
    "            nn.Sigmoid()\n",
    "        )\n",
    "\n",
    "    def forward(self,x):\n",
    "        x = self.encoder(x)\n",
    "        x = self.bottleneck(x)\n",
    "        x = self.decoder(x)\n",
    "        return x"
   ]
  },
  {
   "cell_type": "code",
   "execution_count": 12,
   "id": "34f51a87",
   "metadata": {
    "execution": {
     "iopub.execute_input": "2025-08-12T21:41:40.095466Z",
     "iopub.status.busy": "2025-08-12T21:41:40.095227Z",
     "iopub.status.idle": "2025-08-12T21:41:40.103707Z",
     "shell.execute_reply": "2025-08-12T21:41:40.103036Z"
    },
    "papermill": {
     "duration": 0.016105,
     "end_time": "2025-08-12T21:41:40.104706",
     "exception": false,
     "start_time": "2025-08-12T21:41:40.088601",
     "status": "completed"
    },
    "tags": []
   },
   "outputs": [],
   "source": [
    "import torch\n",
    "import torch.nn as nn\n",
    "import torch.nn.functional as F\n",
    "\n",
    "class UNetAE(nn.Module):\n",
    "    def __init__(self):\n",
    "        super(UNetAE, self).__init__()\n",
    "        # Encoder\n",
    "        self.enc1 = nn.Sequential(\n",
    "            nn.Conv2d(3, 16, 3, padding=1), nn.ReLU()\n",
    "        )\n",
    "        self.enc2 = nn.Sequential(\n",
    "            nn.Conv2d(16, 32, 3, padding=1), nn.ReLU()\n",
    "        )\n",
    "        self.enc3 = nn.Sequential(\n",
    "            nn.Conv2d(32, 64, 3, padding=1), nn.ReLU()\n",
    "        )\n",
    "\n",
    "        self.pool = nn.MaxPool2d(2, 2)\n",
    "\n",
    "        # Bottleneck\n",
    "        self.bottleneck = nn.Sequential(\n",
    "            nn.Conv2d(64, 128, 3, padding=1), nn.ReLU()\n",
    "        )\n",
    "\n",
    "        # Decoder\n",
    "        self.up3 = nn.Upsample(scale_factor=2, mode='nearest')\n",
    "        self.dec3 = nn.Sequential(\n",
    "            nn.Conv2d(128 + 64, 64, 3, padding=1), nn.ReLU()\n",
    "        )\n",
    "\n",
    "        self.up2 = nn.Upsample(scale_factor=2, mode='nearest')\n",
    "        self.dec2 = nn.Sequential(\n",
    "            nn.Conv2d(64 + 32, 32, 3, padding=1), nn.ReLU()\n",
    "        )\n",
    "\n",
    "        self.up1 = nn.Upsample(scale_factor=2, mode='nearest')\n",
    "        self.dec1 = nn.Sequential(\n",
    "            nn.Conv2d(32 + 16, 16, 3, padding=1), nn.ReLU()\n",
    "        )\n",
    "\n",
    "        self.final = nn.Conv2d(16, 3, 1)  # output 3 channels\n",
    "        self.sigmoid = nn.Sigmoid()\n",
    "\n",
    "    def forward(self, x):\n",
    "        # Encoder\n",
    "        e1 = self.enc1(x)  # [B,16,H,W]\n",
    "        p1 = self.pool(e1) # downsample\n",
    "\n",
    "        e2 = self.enc2(p1) # [B,32,H/2,W/2]\n",
    "        p2 = self.pool(e2)\n",
    "\n",
    "        e3 = self.enc3(p2) # [B,64,H/4,W/4]\n",
    "        p3 = self.pool(e3)\n",
    "\n",
    "        # Bottleneck\n",
    "        b = self.bottleneck(p3)  # [B,128,H/8,W/8]\n",
    "\n",
    "        # Decoder\n",
    "        d3 = self.up3(b)          # upsample\n",
    "        d3 = torch.cat([d3, e3], dim=1)  # concat skip connection\n",
    "        d3 = self.dec3(d3)\n",
    "\n",
    "        d2 = self.up2(d3)\n",
    "        d2 = torch.cat([d2, e2], dim=1)\n",
    "        d2 = self.dec2(d2)\n",
    "\n",
    "        d1 = self.up1(d2)\n",
    "        d1 = torch.cat([d1, e1], dim=1)\n",
    "        d1 = self.dec1(d1)\n",
    "\n",
    "        out = self.final(d1)\n",
    "        out = self.sigmoid(out)\n",
    "\n",
    "        return out\n"
   ]
  },
  {
   "cell_type": "code",
   "execution_count": null,
   "id": "bba21b9e",
   "metadata": {
    "papermill": {
     "duration": 0.005688,
     "end_time": "2025-08-12T21:41:40.116281",
     "exception": false,
     "start_time": "2025-08-12T21:41:40.110593",
     "status": "completed"
    },
    "tags": []
   },
   "outputs": [],
   "source": []
  },
  {
   "cell_type": "code",
   "execution_count": 13,
   "id": "688b3be7",
   "metadata": {
    "execution": {
     "iopub.execute_input": "2025-08-12T21:41:40.128940Z",
     "iopub.status.busy": "2025-08-12T21:41:40.128507Z",
     "iopub.status.idle": "2025-08-12T21:41:40.229923Z",
     "shell.execute_reply": "2025-08-12T21:41:40.229309Z"
    },
    "papermill": {
     "duration": 0.109151,
     "end_time": "2025-08-12T21:41:40.231146",
     "exception": false,
     "start_time": "2025-08-12T21:41:40.121995",
     "status": "completed"
    },
    "tags": []
   },
   "outputs": [],
   "source": [
    "device = 'cuda' if torch.cuda.is_available() else 'cpu'"
   ]
  },
  {
   "cell_type": "code",
   "execution_count": 14,
   "id": "376f1670",
   "metadata": {
    "execution": {
     "iopub.execute_input": "2025-08-12T21:41:40.250629Z",
     "iopub.status.busy": "2025-08-12T21:41:40.250278Z",
     "iopub.status.idle": "2025-08-12T21:41:40.475915Z",
     "shell.execute_reply": "2025-08-12T21:41:40.475132Z"
    },
    "papermill": {
     "duration": 0.235828,
     "end_time": "2025-08-12T21:41:40.477570",
     "exception": false,
     "start_time": "2025-08-12T21:41:40.241742",
     "status": "completed"
    },
    "tags": []
   },
   "outputs": [],
   "source": [
    "# model = AE().to(device)\n",
    "model = UNetAE().to(device)"
   ]
  },
  {
   "cell_type": "code",
   "execution_count": 15,
   "id": "3dcb5d61",
   "metadata": {
    "execution": {
     "iopub.execute_input": "2025-08-12T21:41:40.498502Z",
     "iopub.status.busy": "2025-08-12T21:41:40.498247Z",
     "iopub.status.idle": "2025-08-12T21:41:40.503086Z",
     "shell.execute_reply": "2025-08-12T21:41:40.502427Z"
    },
    "papermill": {
     "duration": 0.016496,
     "end_time": "2025-08-12T21:41:40.504339",
     "exception": false,
     "start_time": "2025-08-12T21:41:40.487843",
     "status": "completed"
    },
    "tags": []
   },
   "outputs": [
    {
     "data": {
      "text/plain": [
       "UNetAE(\n",
       "  (enc1): Sequential(\n",
       "    (0): Conv2d(3, 16, kernel_size=(3, 3), stride=(1, 1), padding=(1, 1))\n",
       "    (1): ReLU()\n",
       "  )\n",
       "  (enc2): Sequential(\n",
       "    (0): Conv2d(16, 32, kernel_size=(3, 3), stride=(1, 1), padding=(1, 1))\n",
       "    (1): ReLU()\n",
       "  )\n",
       "  (enc3): Sequential(\n",
       "    (0): Conv2d(32, 64, kernel_size=(3, 3), stride=(1, 1), padding=(1, 1))\n",
       "    (1): ReLU()\n",
       "  )\n",
       "  (pool): MaxPool2d(kernel_size=2, stride=2, padding=0, dilation=1, ceil_mode=False)\n",
       "  (bottleneck): Sequential(\n",
       "    (0): Conv2d(64, 128, kernel_size=(3, 3), stride=(1, 1), padding=(1, 1))\n",
       "    (1): ReLU()\n",
       "  )\n",
       "  (up3): Upsample(scale_factor=2.0, mode='nearest')\n",
       "  (dec3): Sequential(\n",
       "    (0): Conv2d(192, 64, kernel_size=(3, 3), stride=(1, 1), padding=(1, 1))\n",
       "    (1): ReLU()\n",
       "  )\n",
       "  (up2): Upsample(scale_factor=2.0, mode='nearest')\n",
       "  (dec2): Sequential(\n",
       "    (0): Conv2d(96, 32, kernel_size=(3, 3), stride=(1, 1), padding=(1, 1))\n",
       "    (1): ReLU()\n",
       "  )\n",
       "  (up1): Upsample(scale_factor=2.0, mode='nearest')\n",
       "  (dec1): Sequential(\n",
       "    (0): Conv2d(48, 16, kernel_size=(3, 3), stride=(1, 1), padding=(1, 1))\n",
       "    (1): ReLU()\n",
       "  )\n",
       "  (final): Conv2d(16, 3, kernel_size=(1, 1), stride=(1, 1))\n",
       "  (sigmoid): Sigmoid()\n",
       ")"
      ]
     },
     "execution_count": 15,
     "metadata": {},
     "output_type": "execute_result"
    }
   ],
   "source": [
    "model"
   ]
  },
  {
   "cell_type": "code",
   "execution_count": 16,
   "id": "826319be",
   "metadata": {
    "execution": {
     "iopub.execute_input": "2025-08-12T21:41:40.523773Z",
     "iopub.status.busy": "2025-08-12T21:41:40.523573Z",
     "iopub.status.idle": "2025-08-12T21:41:40.527323Z",
     "shell.execute_reply": "2025-08-12T21:41:40.526683Z"
    },
    "papermill": {
     "duration": 0.014278,
     "end_time": "2025-08-12T21:41:40.528417",
     "exception": false,
     "start_time": "2025-08-12T21:41:40.514139",
     "status": "completed"
    },
    "tags": []
   },
   "outputs": [],
   "source": [
    "#hyperparams\n",
    "optimizer = optim.Adam(model.parameters(),lr=1e-03)\n",
    "loss_fn = nn.MSELoss()\n",
    "epochs=25"
   ]
  },
  {
   "cell_type": "code",
   "execution_count": 17,
   "id": "918e18cf",
   "metadata": {
    "execution": {
     "iopub.execute_input": "2025-08-12T21:41:40.540791Z",
     "iopub.status.busy": "2025-08-12T21:41:40.540614Z",
     "iopub.status.idle": "2025-08-12T21:46:16.465092Z",
     "shell.execute_reply": "2025-08-12T21:46:16.464376Z"
    },
    "papermill": {
     "duration": 275.931999,
     "end_time": "2025-08-12T21:46:16.466252",
     "exception": false,
     "start_time": "2025-08-12T21:41:40.534253",
     "status": "completed"
    },
    "tags": []
   },
   "outputs": [
    {
     "name": "stdout",
     "output_type": "stream",
     "text": [
      "Epoch: 0 | Loss: 1.3575108051300049\n",
      "Epoch: 1 | Loss: 1.0910861662455968\n",
      "Epoch: 2 | Loss: 1.0969540902546473\n",
      "Epoch: 3 | Loss: 1.097740650177002\n",
      "Epoch: 4 | Loss: 1.0972560133252824\n",
      "Epoch: 5 | Loss: 1.0870860304151262\n",
      "Epoch: 6 | Loss: 1.1042652981621879\n",
      "Epoch: 7 | Loss: 1.0935066086905343\n",
      "Epoch: 8 | Loss: 1.1006316116877966\n",
      "Epoch: 9 | Loss: 1.0949286222457886\n",
      "Epoch: 10 | Loss: 1.0908253533499581\n",
      "Epoch: 11 | Loss: 1.087202685219901\n",
      "Epoch: 12 | Loss: 1.098198652267456\n",
      "Epoch: 13 | Loss: 1.08786826474326\n",
      "Epoch: 14 | Loss: 1.0906144380569458\n",
      "Epoch: 15 | Loss: 1.096722892352513\n",
      "Epoch: 16 | Loss: 1.0953453268323625\n",
      "Epoch: 17 | Loss: 1.0910933698926653\n",
      "Epoch: 18 | Loss: 1.0915250267301286\n",
      "Epoch: 19 | Loss: 1.0936531169073922\n",
      "Epoch: 20 | Loss: 1.0902598925999232\n",
      "Epoch: 21 | Loss: 1.09600796018328\n",
      "Epoch: 22 | Loss: 1.0975369385310583\n",
      "Epoch: 23 | Loss: 1.1015206234795707\n",
      "Epoch: 24 | Loss: 1.0946564674377441\n"
     ]
    }
   ],
   "source": [
    "train_losses = []\n",
    "for epoch in range(epochs):\n",
    "    model.train()\n",
    "    train_loss = 0\n",
    "    for images,_ in train_loader:\n",
    "        images = images.to(device)\n",
    "        pred = model(images)\n",
    "        loss = loss_fn(pred,images)\n",
    "        loss.backward()\n",
    "        optimizer.step()\n",
    "        optimizer.zero_grad()\n",
    "        train_loss += loss.item()\n",
    "    avg_loss = train_loss/len(train_loader)\n",
    "    train_losses.append(avg_loss)\n",
    "    print(f'Epoch: {epoch} | Loss: {avg_loss}')"
   ]
  },
  {
   "cell_type": "code",
   "execution_count": 18,
   "id": "77911bd9",
   "metadata": {
    "execution": {
     "iopub.execute_input": "2025-08-12T21:46:16.481375Z",
     "iopub.status.busy": "2025-08-12T21:46:16.481124Z",
     "iopub.status.idle": "2025-08-12T21:46:16.485402Z",
     "shell.execute_reply": "2025-08-12T21:46:16.484829Z"
    },
    "papermill": {
     "duration": 0.012918,
     "end_time": "2025-08-12T21:46:16.486427",
     "exception": false,
     "start_time": "2025-08-12T21:46:16.473509",
     "status": "completed"
    },
    "tags": []
   },
   "outputs": [
    {
     "data": {
      "text/plain": [
       "[1.3575108051300049,\n",
       " 1.0910861662455968,\n",
       " 1.0969540902546473,\n",
       " 1.097740650177002,\n",
       " 1.0972560133252824,\n",
       " 1.0870860304151262,\n",
       " 1.1042652981621879,\n",
       " 1.0935066086905343,\n",
       " 1.1006316116877966,\n",
       " 1.0949286222457886,\n",
       " 1.0908253533499581,\n",
       " 1.087202685219901,\n",
       " 1.098198652267456,\n",
       " 1.08786826474326,\n",
       " 1.0906144380569458,\n",
       " 1.096722892352513,\n",
       " 1.0953453268323625,\n",
       " 1.0910933698926653,\n",
       " 1.0915250267301286,\n",
       " 1.0936531169073922,\n",
       " 1.0902598925999232,\n",
       " 1.09600796018328,\n",
       " 1.0975369385310583,\n",
       " 1.1015206234795707,\n",
       " 1.0946564674377441]"
      ]
     },
     "execution_count": 18,
     "metadata": {},
     "output_type": "execute_result"
    }
   ],
   "source": [
    "train_losses"
   ]
  },
  {
   "cell_type": "code",
   "execution_count": 19,
   "id": "33744d31",
   "metadata": {
    "execution": {
     "iopub.execute_input": "2025-08-12T21:46:16.502384Z",
     "iopub.status.busy": "2025-08-12T21:46:16.501911Z",
     "iopub.status.idle": "2025-08-12T21:46:16.627812Z",
     "shell.execute_reply": "2025-08-12T21:46:16.627108Z"
    },
    "papermill": {
     "duration": 0.134352,
     "end_time": "2025-08-12T21:46:16.628851",
     "exception": false,
     "start_time": "2025-08-12T21:46:16.494499",
     "status": "completed"
    },
    "tags": []
   },
   "outputs": [
    {
     "data": {
      "text/plain": [
       "[<matplotlib.lines.Line2D at 0x7ae39c33d790>]"
      ]
     },
     "execution_count": 19,
     "metadata": {},
     "output_type": "execute_result"
    },
    {
     "data": {
      "image/png": "[encoded data removed]",
      "text/plain": [
       "<Figure size 640x480 with 1 Axes>"
      ]
     },
     "metadata": {},
     "output_type": "display_data"
    }
   ],
   "source": [
    "plt.plot(train_losses)"
   ]
  },
  {
   "cell_type": "code",
   "execution_count": 20,
   "id": "7e0c54e9",
   "metadata": {
    "execution": {
     "iopub.execute_input": "2025-08-12T21:46:16.644203Z",
     "iopub.status.busy": "2025-08-12T21:46:16.643659Z",
     "iopub.status.idle": "2025-08-12T21:46:26.441606Z",
     "shell.execute_reply": "2025-08-12T21:46:26.440950Z"
    },
    "papermill": {
     "duration": 9.806924,
     "end_time": "2025-08-12T21:46:26.442963",
     "exception": false,
     "start_time": "2025-08-12T21:46:16.636039",
     "status": "completed"
    },
    "tags": []
   },
   "outputs": [],
   "source": [
    "model.eval()\n",
    "all_labels = []\n",
    "all_scores = []\n",
    "\n",
    "with torch.no_grad():\n",
    "    for imgs,labels in test_loader:\n",
    "        imgs = imgs.to(device)\n",
    "        outputs = model(imgs)\n",
    "\n",
    "        #compute error\n",
    "        errors = torch.mean((outputs-imgs)**2,dim=(1,2,3))\n",
    "        all_scores.extend(errors.cpu().numpy())\n",
    "        all_labels.extend(labels.cpu().numpy())\n",
    "        "
   ]
  },
  {
   "cell_type": "code",
   "execution_count": 21,
   "id": "86576591",
   "metadata": {
    "execution": {
     "iopub.execute_input": "2025-08-12T21:46:26.459431Z",
     "iopub.status.busy": "2025-08-12T21:46:26.459187Z",
     "iopub.status.idle": "2025-08-12T21:46:28.777335Z",
     "shell.execute_reply": "2025-08-12T21:46:28.776715Z"
    },
    "papermill": {
     "duration": 2.327676,
     "end_time": "2025-08-12T21:46:28.778608",
     "exception": false,
     "start_time": "2025-08-12T21:46:26.450932",
     "status": "completed"
    },
    "tags": []
   },
   "outputs": [],
   "source": [
    "import numpy as np\n",
    "from sklearn.preprocessing import MinMaxScaler\n",
    "\n",
    "all_scores = np.array(all_scores).reshape(-1, 1).flatten()\n",
    "all_labels = np.array(all_labels)\n",
    "\n",
    "# scaler = MinMaxScaler() #scaling is optional\n",
    "# norm_scores = scaler.fit_transform(all_scores).flatten()\n",
    "\n",
    "\n",
    "\n"
   ]
  },
  {
   "cell_type": "code",
   "execution_count": 22,
   "id": "5c6a6ce8",
   "metadata": {
    "execution": {
     "iopub.execute_input": "2025-08-12T21:46:28.794215Z",
     "iopub.status.busy": "2025-08-12T21:46:28.793917Z",
     "iopub.status.idle": "2025-08-12T21:46:28.797447Z",
     "shell.execute_reply": "2025-08-12T21:46:28.796921Z"
    },
    "papermill": {
     "duration": 0.012376,
     "end_time": "2025-08-12T21:46:28.798549",
     "exception": false,
     "start_time": "2025-08-12T21:46:28.786173",
     "status": "completed"
    },
    "tags": []
   },
   "outputs": [],
   "source": [
    "binary_labels = np.array([0 if l == 0 else 1 for l in all_labels])"
   ]
  },
  {
   "cell_type": "code",
   "execution_count": 23,
   "id": "a6249741",
   "metadata": {
    "execution": {
     "iopub.execute_input": "2025-08-12T21:46:28.813734Z",
     "iopub.status.busy": "2025-08-12T21:46:28.813552Z",
     "iopub.status.idle": "2025-08-12T21:46:28.820780Z",
     "shell.execute_reply": "2025-08-12T21:46:28.820297Z"
    },
    "papermill": {
     "duration": 0.015958,
     "end_time": "2025-08-12T21:46:28.821754",
     "exception": false,
     "start_time": "2025-08-12T21:46:28.805796",
     "status": "completed"
    },
    "tags": []
   },
   "outputs": [],
   "source": [
    "#Calculate threshold and pred\n",
    "threshold = np.percentile([score for label,score in zip(binary_labels,all_scores) if label==0],95)\n",
    "\n",
    "pred = [1 if score > threshold else 0 for score in all_scores]"
   ]
  },
  {
   "cell_type": "code",
   "execution_count": 24,
   "id": "00fa7ab4",
   "metadata": {
    "execution": {
     "iopub.execute_input": "2025-08-12T21:46:28.836696Z",
     "iopub.status.busy": "2025-08-12T21:46:28.836513Z",
     "iopub.status.idle": "2025-08-12T21:46:29.017643Z",
     "shell.execute_reply": "2025-08-12T21:46:29.017020Z"
    },
    "papermill": {
     "duration": 0.189867,
     "end_time": "2025-08-12T21:46:29.018708",
     "exception": false,
     "start_time": "2025-08-12T21:46:28.828841",
     "status": "completed"
    },
    "tags": []
   },
   "outputs": [
    {
     "name": "stdout",
     "output_type": "stream",
     "text": [
      "ROC AUC: 0.5710\n"
     ]
    }
   ],
   "source": [
    "from sklearn.metrics import roc_auc_score, roc_curve,accuracy_score,classification_report\n",
    "\n",
    "auc = roc_auc_score(binary_labels, all_scores,multi_class=\"ovr\")\n",
    "print(f\"ROC AUC: {auc:.4f}\")"
   ]
  },
  {
   "cell_type": "code",
   "execution_count": 25,
   "id": "ac5501cf",
   "metadata": {
    "execution": {
     "iopub.execute_input": "2025-08-12T21:46:29.033797Z",
     "iopub.status.busy": "2025-08-12T21:46:29.033618Z",
     "iopub.status.idle": "2025-08-12T21:46:29.043398Z",
     "shell.execute_reply": "2025-08-12T21:46:29.042598Z"
    },
    "papermill": {
     "duration": 0.018612,
     "end_time": "2025-08-12T21:46:29.044617",
     "exception": false,
     "start_time": "2025-08-12T21:46:29.026005",
     "status": "completed"
    },
    "tags": []
   },
   "outputs": [
    {
     "name": "stdout",
     "output_type": "stream",
     "text": [
      "              precision    recall  f1-score   support\n",
      "\n",
      "           0       0.10      0.92      0.18        13\n",
      "           1       0.97      0.22      0.36       137\n",
      "\n",
      "    accuracy                           0.28       150\n",
      "   macro avg       0.53      0.57      0.27       150\n",
      "weighted avg       0.89      0.28      0.34       150\n",
      "\n"
     ]
    }
   ],
   "source": [
    "print(classification_report(binary_labels, pred))"
   ]
  },
  {
   "cell_type": "code",
   "execution_count": 26,
   "id": "279fb43e",
   "metadata": {
    "execution": {
     "iopub.execute_input": "2025-08-12T21:46:29.060047Z",
     "iopub.status.busy": "2025-08-12T21:46:29.059519Z",
     "iopub.status.idle": "2025-08-12T21:46:29.064380Z",
     "shell.execute_reply": "2025-08-12T21:46:29.063857Z"
    },
    "papermill": {
     "duration": 0.013707,
     "end_time": "2025-08-12T21:46:29.065405",
     "exception": false,
     "start_time": "2025-08-12T21:46:29.051698",
     "status": "completed"
    },
    "tags": []
   },
   "outputs": [
    {
     "data": {
      "text/plain": [
       "0.28"
      ]
     },
     "execution_count": 26,
     "metadata": {},
     "output_type": "execute_result"
    }
   ],
   "source": [
    "accuracy_score(binary_labels, pred)"
   ]
  },
  {
   "cell_type": "code",
   "execution_count": 27,
   "id": "239ba76f",
   "metadata": {
    "execution": {
     "iopub.execute_input": "2025-08-12T21:46:29.080922Z",
     "iopub.status.busy": "2025-08-12T21:46:29.080735Z",
     "iopub.status.idle": "2025-08-12T21:46:29.092132Z",
     "shell.execute_reply": "2025-08-12T21:46:29.091653Z"
    },
    "papermill": {
     "duration": 0.020395,
     "end_time": "2025-08-12T21:46:29.093119",
     "exception": false,
     "start_time": "2025-08-12T21:46:29.072724",
     "status": "completed"
    },
    "tags": []
   },
   "outputs": [],
   "source": [
    "torch.save(model.state_dict(), 'unet_ae.pth')\n"
   ]
  },
  {
   "cell_type": "code",
   "execution_count": null,
   "id": "e3043207",
   "metadata": {
    "papermill": {
     "duration": 0.050482,
     "end_time": "2025-08-12T21:46:29.150934",
     "exception": false,
     "start_time": "2025-08-12T21:46:29.100452",
     "status": "completed"
    },
    "tags": []
   },
   "outputs": [],
   "source": []
  }
 ],
 "metadata": {
  "kaggle": {
   "accelerator": "nvidiaTeslaT4",
   "dataSources": [
    {
     "datasetId": 1946896,
     "sourceId": 3209332,
     "sourceType": "datasetVersion"
    }
   ],
   "dockerImageVersionId": 31090,
   "isGpuEnabled": true,
   "isInternetEnabled": true,
   "language": "python",
   "sourceType": "notebook"
  },
  "kernelspec": {
   "display_name": "Python 3",
   "language": "python",
   "name": "python3"
  },
  "language_info": {
   "codemirror_mode": {
    "name": "ipython",
    "version": 3
   },
   "file_extension": ".py",
   "mimetype": "text/x-python",
   "name": "python",
   "nbconvert_exporter": "python",
   "pygments_lexer": "ipython3",
   "version": "3.11.13"
  },
  "papermill": {
   "default_parameters": {},
   "duration": 316.380572,
   "end_time": "2025-08-12T21:46:31.485181",
   "environment_variables": {},
   "exception": null,
   "input_path": "__notebook__.ipynb",
   "output_path": "__notebook__.ipynb",
   "parameters": {},
   "start_time": "2025-08-12T21:41:15.104609",
   "version": "2.6.0"
  }
 },
 "nbformat": 4,
 "nbformat_minor": 5
}
