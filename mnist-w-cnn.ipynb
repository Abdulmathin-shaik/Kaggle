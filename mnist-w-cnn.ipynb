{
 "cells": [
  {
   "cell_type": "code",
   "execution_count": 1,
   "id": "eeec02e5",
   "metadata": {
    "execution": {
     "iopub.execute_input": "2023-12-04T21:48:45.619986Z",
     "iopub.status.busy": "2023-12-04T21:48:45.619605Z",
     "iopub.status.idle": "2023-12-04T21:48:46.540858Z",
     "shell.execute_reply": "2023-12-04T21:48:46.539670Z"
    },
    "papermill": {
     "duration": 0.943773,
     "end_time": "2023-12-04T21:48:46.543554",
     "exception": false,
     "start_time": "2023-12-04T21:48:45.599781",
     "status": "completed"
    },
    "tags": []
   },
   "outputs": [
    {
     "name": "stdout",
     "output_type": "stream",
     "text": [
      "/kaggle/input/digit-recognizer/sample_submission.csv\n",
      "/kaggle/input/digit-recognizer/train.csv\n",
      "/kaggle/input/digit-recognizer/test.csv\n"
     ]
    }
   ],
   "source": [
    "# This Python 3 environment comes with many helpful analytics libraries installed\n",
    "# It is defined by the kaggle/python Docker image: https://github.com/kaggle/docker-python\n",
    "# For example, here's several helpful packages to load\n",
    "\n",
    "import numpy as np # linear algebra\n",
    "import pandas as pd # data processing, CSV file I/O (e.g. pd.read_csv)\n",
    "\n",
    "# Input data files are available in the read-only \"../input/\" directory\n",
    "# For example, running this (by clicking run or pressing Shift+Enter) will list all files under the input directory\n",
    "\n",
    "import os\n",
    "for dirname, _, filenames in os.walk('/kaggle/input'):\n",
    "    for filename in filenames:\n",
    "        print(os.path.join(dirname, filename))\n",
    "\n",
    "# You can write up to 20GB to the current directory (/kaggle/working/) that gets preserved as output when you create a version using \"Save & Run All\" \n",
    "# You can also write temporary files to /kaggle/temp/, but they won't be saved outside of the current session\n"
   ]
  },
  {
   "cell_type": "code",
   "execution_count": 2,
   "id": "1df0f011",
   "metadata": {
    "execution": {
     "iopub.execute_input": "2023-12-04T21:48:46.585442Z",
     "iopub.status.busy": "2023-12-04T21:48:46.584661Z",
     "iopub.status.idle": "2023-12-04T21:48:47.784767Z",
     "shell.execute_reply": "2023-12-04T21:48:47.783583Z"
    },
    "papermill": {
     "duration": 1.223957,
     "end_time": "2023-12-04T21:48:47.787516",
     "exception": false,
     "start_time": "2023-12-04T21:48:46.563559",
     "status": "completed"
    },
    "tags": []
   },
   "outputs": [
    {
     "name": "stderr",
     "output_type": "stream",
     "text": [
      "/opt/conda/lib/python3.10/site-packages/scipy/__init__.py:146: UserWarning: A NumPy version >=1.16.5 and <1.23.0 is required for this version of SciPy (detected version 1.24.3\n",
      "  warnings.warn(f\"A NumPy version >={np_minversion} and <{np_maxversion}\"\n"
     ]
    }
   ],
   "source": [
    "import numpy as np\n",
    "import pandas as pd\n",
    "import matplotlib.pyplot as plt\n",
    "import matplotlib.image as mpimg\n",
    "%matplotlib inline\n",
    "import seaborn as sns\n"
   ]
  },
  {
   "cell_type": "code",
   "execution_count": 3,
   "id": "83b3388e",
   "metadata": {
    "execution": {
     "iopub.execute_input": "2023-12-04T21:48:47.849007Z",
     "iopub.status.busy": "2023-12-04T21:48:47.847944Z",
     "iopub.status.idle": "2023-12-04T21:48:47.854491Z",
     "shell.execute_reply": "2023-12-04T21:48:47.853139Z"
    },
    "papermill": {
     "duration": 0.038153,
     "end_time": "2023-12-04T21:48:47.856988",
     "exception": false,
     "start_time": "2023-12-04T21:48:47.818835",
     "status": "completed"
    },
    "tags": []
   },
   "outputs": [],
   "source": [
    "from IPython.core.interactiveshell import InteractiveShell\n",
    "InteractiveShell.ast_node_interactivity = \"all\"\n"
   ]
  },
  {
   "cell_type": "markdown",
   "id": "f8c0628e",
   "metadata": {
    "papermill": {
     "duration": 0.017727,
     "end_time": "2023-12-04T21:48:47.893886",
     "exception": false,
     "start_time": "2023-12-04T21:48:47.876159",
     "status": "completed"
    },
    "tags": []
   },
   "source": [
    " Loading Data"
   ]
  },
  {
   "cell_type": "code",
   "execution_count": 4,
   "id": "ea733585",
   "metadata": {
    "execution": {
     "iopub.execute_input": "2023-12-04T21:48:47.933696Z",
     "iopub.status.busy": "2023-12-04T21:48:47.933122Z",
     "iopub.status.idle": "2023-12-04T21:48:51.679025Z",
     "shell.execute_reply": "2023-12-04T21:48:51.677941Z"
    },
    "papermill": {
     "duration": 3.769052,
     "end_time": "2023-12-04T21:48:51.681699",
     "exception": false,
     "start_time": "2023-12-04T21:48:47.912647",
     "status": "completed"
    },
    "tags": []
   },
   "outputs": [],
   "source": [
    "df=pd.read_csv(\"/kaggle/input/digit-recognizer/train.csv\")\n"
   ]
  },
  {
   "cell_type": "code",
   "execution_count": 5,
   "id": "9f0322a8",
   "metadata": {
    "execution": {
     "iopub.execute_input": "2023-12-04T21:48:51.721838Z",
     "iopub.status.busy": "2023-12-04T21:48:51.721470Z",
     "iopub.status.idle": "2023-12-04T21:48:51.748095Z",
     "shell.execute_reply": "2023-12-04T21:48:51.747141Z"
    },
    "papermill": {
     "duration": 0.049458,
     "end_time": "2023-12-04T21:48:51.750478",
     "exception": false,
     "start_time": "2023-12-04T21:48:51.701020",
     "status": "completed"
    },
    "tags": []
   },
   "outputs": [
    {
     "data": {
      "text/html": [
       "<div>\n",
       "<style scoped>\n",
       "    .dataframe tbody tr th:only-of-type {\n",
       "        vertical-align: middle;\n",
       "    }\n",
       "\n",
       "    .dataframe tbody tr th {\n",
       "        vertical-align: top;\n",
       "    }\n",
       "\n",
       "    .dataframe thead th {\n",
       "        text-align: right;\n",
       "    }\n",
       "</style>\n",
       "<table border=\"1\" class=\"dataframe\">\n",
       "  <thead>\n",
       "    <tr style=\"text-align: right;\">\n",
       "      <th></th>\n",
       "      <th>label</th>\n",
       "      <th>pixel0</th>\n",
       "      <th>pixel1</th>\n",
       "      <th>pixel2</th>\n",
       "      <th>pixel3</th>\n",
       "      <th>pixel4</th>\n",
       "      <th>pixel5</th>\n",
       "      <th>pixel6</th>\n",
       "      <th>pixel7</th>\n",
       "      <th>pixel8</th>\n",
       "      <th>...</th>\n",
       "      <th>pixel774</th>\n",
       "      <th>pixel775</th>\n",
       "      <th>pixel776</th>\n",
       "      <th>pixel777</th>\n",
       "      <th>pixel778</th>\n",
       "      <th>pixel779</th>\n",
       "      <th>pixel780</th>\n",
       "      <th>pixel781</th>\n",
       "      <th>pixel782</th>\n",
       "      <th>pixel783</th>\n",
       "    </tr>\n",
       "  </thead>\n",
       "  <tbody>\n",
       "    <tr>\n",
       "      <th>0</th>\n",
       "      <td>1</td>\n",
       "      <td>0</td>\n",
       "      <td>0</td>\n",
       "      <td>0</td>\n",
       "      <td>0</td>\n",
       "      <td>0</td>\n",
       "      <td>0</td>\n",
       "      <td>0</td>\n",
       "      <td>0</td>\n",
       "      <td>0</td>\n",
       "      <td>...</td>\n",
       "      <td>0</td>\n",
       "      <td>0</td>\n",
       "      <td>0</td>\n",
       "      <td>0</td>\n",
       "      <td>0</td>\n",
       "      <td>0</td>\n",
       "      <td>0</td>\n",
       "      <td>0</td>\n",
       "      <td>0</td>\n",
       "      <td>0</td>\n",
       "    </tr>\n",
       "    <tr>\n",
       "      <th>1</th>\n",
       "      <td>0</td>\n",
       "      <td>0</td>\n",
       "      <td>0</td>\n",
       "      <td>0</td>\n",
       "      <td>0</td>\n",
       "      <td>0</td>\n",
       "      <td>0</td>\n",
       "      <td>0</td>\n",
       "      <td>0</td>\n",
       "      <td>0</td>\n",
       "      <td>...</td>\n",
       "      <td>0</td>\n",
       "      <td>0</td>\n",
       "      <td>0</td>\n",
       "      <td>0</td>\n",
       "      <td>0</td>\n",
       "      <td>0</td>\n",
       "      <td>0</td>\n",
       "      <td>0</td>\n",
       "      <td>0</td>\n",
       "      <td>0</td>\n",
       "    </tr>\n",
       "    <tr>\n",
       "      <th>2</th>\n",
       "      <td>1</td>\n",
       "      <td>0</td>\n",
       "      <td>0</td>\n",
       "      <td>0</td>\n",
       "      <td>0</td>\n",
       "      <td>0</td>\n",
       "      <td>0</td>\n",
       "      <td>0</td>\n",
       "      <td>0</td>\n",
       "      <td>0</td>\n",
       "      <td>...</td>\n",
       "      <td>0</td>\n",
       "      <td>0</td>\n",
       "      <td>0</td>\n",
       "      <td>0</td>\n",
       "      <td>0</td>\n",
       "      <td>0</td>\n",
       "      <td>0</td>\n",
       "      <td>0</td>\n",
       "      <td>0</td>\n",
       "      <td>0</td>\n",
       "    </tr>\n",
       "    <tr>\n",
       "      <th>3</th>\n",
       "      <td>4</td>\n",
       "      <td>0</td>\n",
       "      <td>0</td>\n",
       "      <td>0</td>\n",
       "      <td>0</td>\n",
       "      <td>0</td>\n",
       "      <td>0</td>\n",
       "      <td>0</td>\n",
       "      <td>0</td>\n",
       "      <td>0</td>\n",
       "      <td>...</td>\n",
       "      <td>0</td>\n",
       "      <td>0</td>\n",
       "      <td>0</td>\n",
       "      <td>0</td>\n",
       "      <td>0</td>\n",
       "      <td>0</td>\n",
       "      <td>0</td>\n",
       "      <td>0</td>\n",
       "      <td>0</td>\n",
       "      <td>0</td>\n",
       "    </tr>\n",
       "    <tr>\n",
       "      <th>4</th>\n",
       "      <td>0</td>\n",
       "      <td>0</td>\n",
       "      <td>0</td>\n",
       "      <td>0</td>\n",
       "      <td>0</td>\n",
       "      <td>0</td>\n",
       "      <td>0</td>\n",
       "      <td>0</td>\n",
       "      <td>0</td>\n",
       "      <td>0</td>\n",
       "      <td>...</td>\n",
       "      <td>0</td>\n",
       "      <td>0</td>\n",
       "      <td>0</td>\n",
       "      <td>0</td>\n",
       "      <td>0</td>\n",
       "      <td>0</td>\n",
       "      <td>0</td>\n",
       "      <td>0</td>\n",
       "      <td>0</td>\n",
       "      <td>0</td>\n",
       "    </tr>\n",
       "  </tbody>\n",
       "</table>\n",
       "<p>5 rows × 785 columns</p>\n",
       "</div>"
      ],
      "text/plain": [
       "   label  pixel0  pixel1  pixel2  pixel3  pixel4  pixel5  pixel6  pixel7  \\\n",
       "0      1       0       0       0       0       0       0       0       0   \n",
       "1      0       0       0       0       0       0       0       0       0   \n",
       "2      1       0       0       0       0       0       0       0       0   \n",
       "3      4       0       0       0       0       0       0       0       0   \n",
       "4      0       0       0       0       0       0       0       0       0   \n",
       "\n",
       "   pixel8  ...  pixel774  pixel775  pixel776  pixel777  pixel778  pixel779  \\\n",
       "0       0  ...         0         0         0         0         0         0   \n",
       "1       0  ...         0         0         0         0         0         0   \n",
       "2       0  ...         0         0         0         0         0         0   \n",
       "3       0  ...         0         0         0         0         0         0   \n",
       "4       0  ...         0         0         0         0         0         0   \n",
       "\n",
       "   pixel780  pixel781  pixel782  pixel783  \n",
       "0         0         0         0         0  \n",
       "1         0         0         0         0  \n",
       "2         0         0         0         0  \n",
       "3         0         0         0         0  \n",
       "4         0         0         0         0  \n",
       "\n",
       "[5 rows x 785 columns]"
      ]
     },
     "execution_count": 5,
     "metadata": {},
     "output_type": "execute_result"
    }
   ],
   "source": [
    "df.head()\n"
   ]
  },
  {
   "cell_type": "code",
   "execution_count": 6,
   "id": "42214bcd",
   "metadata": {
    "execution": {
     "iopub.execute_input": "2023-12-04T21:48:51.790863Z",
     "iopub.status.busy": "2023-12-04T21:48:51.790497Z",
     "iopub.status.idle": "2023-12-04T21:48:51.795072Z",
     "shell.execute_reply": "2023-12-04T21:48:51.794127Z"
    },
    "papermill": {
     "duration": 0.026993,
     "end_time": "2023-12-04T21:48:51.797058",
     "exception": false,
     "start_time": "2023-12-04T21:48:51.770065",
     "status": "completed"
    },
    "tags": []
   },
   "outputs": [],
   "source": [
    "y=df[\"label\"]\n"
   ]
  },
  {
   "cell_type": "code",
   "execution_count": 7,
   "id": "98c6de7a",
   "metadata": {
    "execution": {
     "iopub.execute_input": "2023-12-04T21:48:51.834602Z",
     "iopub.status.busy": "2023-12-04T21:48:51.834295Z",
     "iopub.status.idle": "2023-12-04T21:48:51.929781Z",
     "shell.execute_reply": "2023-12-04T21:48:51.928920Z"
    },
    "papermill": {
     "duration": 0.117188,
     "end_time": "2023-12-04T21:48:51.932550",
     "exception": false,
     "start_time": "2023-12-04T21:48:51.815362",
     "status": "completed"
    },
    "tags": []
   },
   "outputs": [],
   "source": [
    "X=df.drop(\"label\",axis=1)\n"
   ]
  },
  {
   "cell_type": "code",
   "execution_count": 8,
   "id": "72cf80dd",
   "metadata": {
    "execution": {
     "iopub.execute_input": "2023-12-04T21:48:51.973664Z",
     "iopub.status.busy": "2023-12-04T21:48:51.973288Z",
     "iopub.status.idle": "2023-12-04T21:48:52.100200Z",
     "shell.execute_reply": "2023-12-04T21:48:52.099103Z"
    },
    "papermill": {
     "duration": 0.150596,
     "end_time": "2023-12-04T21:48:52.102419",
     "exception": false,
     "start_time": "2023-12-04T21:48:51.951823",
     "status": "completed"
    },
    "tags": []
   },
   "outputs": [
    {
     "name": "stdout",
     "output_type": "stream",
     "text": [
      "<class 'pandas.core.frame.DataFrame'>\n",
      "RangeIndex: 42000 entries, 0 to 41999\n",
      "Columns: 784 entries, pixel0 to pixel783\n",
      "dtypes: int64(784)\n",
      "memory usage: 251.2 MB\n"
     ]
    }
   ],
   "source": [
    "X.info()\n",
    "\n"
   ]
  },
  {
   "cell_type": "markdown",
   "id": "1938c74e",
   "metadata": {
    "papermill": {
     "duration": 0.018042,
     "end_time": "2023-12-04T21:48:52.139556",
     "exception": false,
     "start_time": "2023-12-04T21:48:52.121514",
     "status": "completed"
    },
    "tags": []
   },
   "source": [
    " Exploratory Data Analysis"
   ]
  },
  {
   "cell_type": "code",
   "execution_count": 9,
   "id": "b660b4fa",
   "metadata": {
    "execution": {
     "iopub.execute_input": "2023-12-04T21:48:52.236173Z",
     "iopub.status.busy": "2023-12-04T21:48:52.235804Z",
     "iopub.status.idle": "2023-12-04T21:48:52.590552Z",
     "shell.execute_reply": "2023-12-04T21:48:52.589386Z"
    },
    "papermill": {
     "duration": 0.43616,
     "end_time": "2023-12-04T21:48:52.593706",
     "exception": false,
     "start_time": "2023-12-04T21:48:52.157546",
     "status": "completed"
    },
    "tags": []
   },
   "outputs": [
    {
     "name": "stderr",
     "output_type": "stream",
     "text": [
      "/opt/conda/lib/python3.10/site-packages/seaborn/_oldcore.py:1498: FutureWarning: is_categorical_dtype is deprecated and will be removed in a future version. Use isinstance(dtype, CategoricalDtype) instead\n",
      "  if pd.api.types.is_categorical_dtype(vector):\n",
      "/opt/conda/lib/python3.10/site-packages/seaborn/_oldcore.py:1498: FutureWarning: is_categorical_dtype is deprecated and will be removed in a future version. Use isinstance(dtype, CategoricalDtype) instead\n",
      "  if pd.api.types.is_categorical_dtype(vector):\n",
      "/opt/conda/lib/python3.10/site-packages/seaborn/_oldcore.py:1498: FutureWarning: is_categorical_dtype is deprecated and will be removed in a future version. Use isinstance(dtype, CategoricalDtype) instead\n",
      "  if pd.api.types.is_categorical_dtype(vector):\n"
     ]
    },
    {
     "data": {
      "text/plain": [
       "<Axes: xlabel='label', ylabel='count'>"
      ]
     },
     "execution_count": 9,
     "metadata": {},
     "output_type": "execute_result"
    },
    {
     "data": {
      "image/png": "[encoded data removed]",
      "text/plain": [
       "<Figure size 640x480 with 1 Axes>"
      ]
     },
     "metadata": {},
     "output_type": "display_data"
    }
   ],
   "source": [
    "sns.countplot(x=y)\n"
   ]
  },
  {
   "cell_type": "code",
   "execution_count": 10,
   "id": "1eaf28ba",
   "metadata": {
    "execution": {
     "iopub.execute_input": "2023-12-04T21:48:52.641811Z",
     "iopub.status.busy": "2023-12-04T21:48:52.640778Z",
     "iopub.status.idle": "2023-12-04T21:48:52.651111Z",
     "shell.execute_reply": "2023-12-04T21:48:52.649973Z"
    },
    "papermill": {
     "duration": 0.034657,
     "end_time": "2023-12-04T21:48:52.653477",
     "exception": false,
     "start_time": "2023-12-04T21:48:52.618820",
     "status": "completed"
    },
    "tags": []
   },
   "outputs": [
    {
     "data": {
      "text/plain": [
       "label\n",
       "1    4684\n",
       "7    4401\n",
       "3    4351\n",
       "9    4188\n",
       "2    4177\n",
       "6    4137\n",
       "0    4132\n",
       "4    4072\n",
       "8    4063\n",
       "5    3795\n",
       "Name: count, dtype: int64"
      ]
     },
     "execution_count": 10,
     "metadata": {},
     "output_type": "execute_result"
    }
   ],
   "source": [
    "y.value_counts()\n"
   ]
  },
  {
   "cell_type": "code",
   "execution_count": 11,
   "id": "3dfddff3",
   "metadata": {
    "execution": {
     "iopub.execute_input": "2023-12-04T21:48:52.704057Z",
     "iopub.status.busy": "2023-12-04T21:48:52.703126Z",
     "iopub.status.idle": "2023-12-04T21:48:53.016265Z",
     "shell.execute_reply": "2023-12-04T21:48:53.015275Z"
    },
    "papermill": {
     "duration": 0.343915,
     "end_time": "2023-12-04T21:48:53.018857",
     "exception": false,
     "start_time": "2023-12-04T21:48:52.674942",
     "status": "completed"
    },
    "tags": []
   },
   "outputs": [
    {
     "data": {
      "text/plain": [
       "<matplotlib.image.AxesImage at 0x7de0c1af9a50>"
      ]
     },
     "execution_count": 11,
     "metadata": {},
     "output_type": "execute_result"
    },
    {
     "data": {
      "image/png": "[encoded data removed]",
      "text/plain": [
       "<Figure size 640x480 with 1 Axes>"
      ]
     },
     "metadata": {},
     "output_type": "display_data"
    }
   ],
   "source": [
    "plt.imshow(X.iloc[100].to_numpy().reshape(28,28),cmap='binary')\n"
   ]
  },
  {
   "cell_type": "code",
   "execution_count": 12,
   "id": "6052b9a1",
   "metadata": {
    "execution": {
     "iopub.execute_input": "2023-12-04T21:48:53.065438Z",
     "iopub.status.busy": "2023-12-04T21:48:53.064800Z",
     "iopub.status.idle": "2023-12-04T21:48:53.070975Z",
     "shell.execute_reply": "2023-12-04T21:48:53.069840Z"
    },
    "papermill": {
     "duration": 0.031264,
     "end_time": "2023-12-04T21:48:53.073340",
     "exception": false,
     "start_time": "2023-12-04T21:48:53.042076",
     "status": "completed"
    },
    "tags": []
   },
   "outputs": [],
   "source": [
    "some_digit=X.to_numpy()[169]\n",
    "some_digit=some_digit.reshape(28,28)\n"
   ]
  },
  {
   "cell_type": "code",
   "execution_count": 13,
   "id": "f6cb16fb",
   "metadata": {
    "execution": {
     "iopub.execute_input": "2023-12-04T21:48:53.119075Z",
     "iopub.status.busy": "2023-12-04T21:48:53.118040Z",
     "iopub.status.idle": "2023-12-04T21:48:53.417617Z",
     "shell.execute_reply": "2023-12-04T21:48:53.416519Z"
    },
    "papermill": {
     "duration": 0.325875,
     "end_time": "2023-12-04T21:48:53.420719",
     "exception": false,
     "start_time": "2023-12-04T21:48:53.094844",
     "status": "completed"
    },
    "tags": []
   },
   "outputs": [
    {
     "data": {
      "text/plain": [
       "<matplotlib.image.AxesImage at 0x7de0c1b0e740>"
      ]
     },
     "execution_count": 13,
     "metadata": {},
     "output_type": "execute_result"
    },
    {
     "data": {
      "image/png": "[encoded data removed]",
      "text/plain": [
       "<Figure size 640x480 with 1 Axes>"
      ]
     },
     "metadata": {},
     "output_type": "display_data"
    }
   ],
   "source": [
    "plt.imshow(some_digit,cmap=\"binary\")\n"
   ]
  },
  {
   "cell_type": "code",
   "execution_count": 14,
   "id": "a07fa1c9",
   "metadata": {
    "execution": {
     "iopub.execute_input": "2023-12-04T21:48:53.468723Z",
     "iopub.status.busy": "2023-12-04T21:48:53.467690Z",
     "iopub.status.idle": "2023-12-04T21:48:53.475316Z",
     "shell.execute_reply": "2023-12-04T21:48:53.474293Z"
    },
    "papermill": {
     "duration": 0.032861,
     "end_time": "2023-12-04T21:48:53.477377",
     "exception": false,
     "start_time": "2023-12-04T21:48:53.444516",
     "status": "completed"
    },
    "tags": []
   },
   "outputs": [
    {
     "data": {
      "text/plain": [
       "2"
      ]
     },
     "execution_count": 14,
     "metadata": {},
     "output_type": "execute_result"
    }
   ],
   "source": [
    "y[169]\n"
   ]
  },
  {
   "cell_type": "code",
   "execution_count": 15,
   "id": "1defd699",
   "metadata": {
    "execution": {
     "iopub.execute_input": "2023-12-04T21:48:53.520683Z",
     "iopub.status.busy": "2023-12-04T21:48:53.520272Z",
     "iopub.status.idle": "2023-12-04T21:48:53.554222Z",
     "shell.execute_reply": "2023-12-04T21:48:53.553284Z"
    },
    "papermill": {
     "duration": 0.057486,
     "end_time": "2023-12-04T21:48:53.556336",
     "exception": false,
     "start_time": "2023-12-04T21:48:53.498850",
     "status": "completed"
    },
    "tags": []
   },
   "outputs": [
    {
     "data": {
      "text/plain": [
       "pixel0      0\n",
       "pixel1      0\n",
       "pixel2      0\n",
       "pixel3      0\n",
       "pixel4      0\n",
       "           ..\n",
       "pixel779    0\n",
       "pixel780    0\n",
       "pixel781    0\n",
       "pixel782    0\n",
       "pixel783    0\n",
       "Length: 784, dtype: int64"
      ]
     },
     "execution_count": 15,
     "metadata": {},
     "output_type": "execute_result"
    }
   ],
   "source": [
    "X.isnull().sum()\n"
   ]
  },
  {
   "cell_type": "code",
   "execution_count": 16,
   "id": "07690862",
   "metadata": {
    "execution": {
     "iopub.execute_input": "2023-12-04T21:48:53.599945Z",
     "iopub.status.busy": "2023-12-04T21:48:53.599560Z",
     "iopub.status.idle": "2023-12-04T21:48:53.868483Z",
     "shell.execute_reply": "2023-12-04T21:48:53.867495Z"
    },
    "papermill": {
     "duration": 0.294097,
     "end_time": "2023-12-04T21:48:53.870862",
     "exception": false,
     "start_time": "2023-12-04T21:48:53.576765",
     "status": "completed"
    },
    "tags": []
   },
   "outputs": [
    {
     "data": {
      "text/plain": [
       "<matplotlib.image.AxesImage at 0x7de0c1af96f0>"
      ]
     },
     "execution_count": 16,
     "metadata": {},
     "output_type": "execute_result"
    },
    {
     "data": {
      "image/png": "[encoded data removed]",
      "text/plain": [
       "<Figure size 640x480 with 1 Axes>"
      ]
     },
     "metadata": {},
     "output_type": "display_data"
    }
   ],
   "source": [
    "#this shows a better way to plot the images. Using .values will convert the dataseries into a numpy array\n",
    "plt.imshow(X.iloc[28].values.reshape(28,28))\n"
   ]
  },
  {
   "cell_type": "code",
   "execution_count": 17,
   "id": "5f04a78d",
   "metadata": {
    "execution": {
     "iopub.execute_input": "2023-12-04T21:48:53.918040Z",
     "iopub.status.busy": "2023-12-04T21:48:53.917662Z",
     "iopub.status.idle": "2023-12-04T21:48:53.938179Z",
     "shell.execute_reply": "2023-12-04T21:48:53.937124Z"
    },
    "papermill": {
     "duration": 0.047032,
     "end_time": "2023-12-04T21:48:53.940569",
     "exception": false,
     "start_time": "2023-12-04T21:48:53.893537",
     "status": "completed"
    },
    "tags": []
   },
   "outputs": [
    {
     "data": {
      "text/plain": [
       "count       784\n",
       "unique        1\n",
       "top       False\n",
       "freq        784\n",
       "dtype: object"
      ]
     },
     "execution_count": 17,
     "metadata": {},
     "output_type": "execute_result"
    }
   ],
   "source": [
    "X.isnull().any().describe()\n"
   ]
  },
  {
   "cell_type": "markdown",
   "id": "ca722bab",
   "metadata": {
    "papermill": {
     "duration": 0.022367,
     "end_time": "2023-12-04T21:48:53.985444",
     "exception": false,
     "start_time": "2023-12-04T21:48:53.963077",
     "status": "completed"
    },
    "tags": []
   },
   "source": [
    " **Reshaping the Data**"
   ]
  },
  {
   "cell_type": "code",
   "execution_count": 18,
   "id": "a5e6e5d8",
   "metadata": {
    "execution": {
     "iopub.execute_input": "2023-12-04T21:48:54.031735Z",
     "iopub.status.busy": "2023-12-04T21:48:54.031389Z",
     "iopub.status.idle": "2023-12-04T21:48:54.036893Z",
     "shell.execute_reply": "2023-12-04T21:48:54.035949Z"
    },
    "papermill": {
     "duration": 0.030979,
     "end_time": "2023-12-04T21:48:54.038867",
     "exception": false,
     "start_time": "2023-12-04T21:48:54.007888",
     "status": "completed"
    },
    "tags": []
   },
   "outputs": [],
   "source": [
    "# An image is 28x28 size. 28*28=784; 1 represent the channels in the image.\n",
    "X=X.values.reshape(-1,28,28,1)\n"
   ]
  },
  {
   "cell_type": "code",
   "execution_count": 19,
   "id": "895f0283",
   "metadata": {
    "execution": {
     "iopub.execute_input": "2023-12-04T21:48:54.082834Z",
     "iopub.status.busy": "2023-12-04T21:48:54.082190Z",
     "iopub.status.idle": "2023-12-04T21:48:54.088432Z",
     "shell.execute_reply": "2023-12-04T21:48:54.087531Z"
    },
    "papermill": {
     "duration": 0.030704,
     "end_time": "2023-12-04T21:48:54.090639",
     "exception": false,
     "start_time": "2023-12-04T21:48:54.059935",
     "status": "completed"
    },
    "tags": []
   },
   "outputs": [
    {
     "data": {
      "text/plain": [
       "(42000, 28, 28, 1)"
      ]
     },
     "execution_count": 19,
     "metadata": {},
     "output_type": "execute_result"
    }
   ],
   "source": [
    "X.shape\n"
   ]
  },
  {
   "cell_type": "markdown",
   "id": "ba869a61",
   "metadata": {
    "papermill": {
     "duration": 0.020129,
     "end_time": "2023-12-04T21:48:54.131764",
     "exception": false,
     "start_time": "2023-12-04T21:48:54.111635",
     "status": "completed"
    },
    "tags": []
   },
   "source": [
    " Normalization"
   ]
  },
  {
   "cell_type": "code",
   "execution_count": 20,
   "id": "71c2ff2b",
   "metadata": {
    "execution": {
     "iopub.execute_input": "2023-12-04T21:48:54.177781Z",
     "iopub.status.busy": "2023-12-04T21:48:54.176828Z",
     "iopub.status.idle": "2023-12-04T21:48:54.250722Z",
     "shell.execute_reply": "2023-12-04T21:48:54.249428Z"
    },
    "papermill": {
     "duration": 0.100685,
     "end_time": "2023-12-04T21:48:54.253552",
     "exception": false,
     "start_time": "2023-12-04T21:48:54.152867",
     "status": "completed"
    },
    "tags": []
   },
   "outputs": [],
   "source": [
    "#Pixel range is from 0 to 255,hence the number 255- this will scale images to [0,1]\n",
    "X=X.astype('float32')/255\n"
   ]
  },
  {
   "cell_type": "code",
   "execution_count": 21,
   "id": "d6cfb239",
   "metadata": {
    "execution": {
     "iopub.execute_input": "2023-12-04T21:48:54.300433Z",
     "iopub.status.busy": "2023-12-04T21:48:54.300019Z",
     "iopub.status.idle": "2023-12-04T21:49:07.835056Z",
     "shell.execute_reply": "2023-12-04T21:49:07.834145Z"
    },
    "papermill": {
     "duration": 13.561384,
     "end_time": "2023-12-04T21:49:07.837714",
     "exception": false,
     "start_time": "2023-12-04T21:48:54.276330",
     "status": "completed"
    },
    "tags": []
   },
   "outputs": [],
   "source": [
    "import tensorflow as tf\n",
    "from keras.utils import to_categorical \n"
   ]
  },
  {
   "cell_type": "markdown",
   "id": "89552273",
   "metadata": {
    "papermill": {
     "duration": 0.021859,
     "end_time": "2023-12-04T21:49:07.881845",
     "exception": false,
     "start_time": "2023-12-04T21:49:07.859986",
     "status": "completed"
    },
    "tags": []
   },
   "source": [
    " Converting the labels into Categorical labels - Helps with Softmax Classification"
   ]
  },
  {
   "cell_type": "code",
   "execution_count": 22,
   "id": "fa343c03",
   "metadata": {
    "execution": {
     "iopub.execute_input": "2023-12-04T21:49:07.929693Z",
     "iopub.status.busy": "2023-12-04T21:49:07.928994Z",
     "iopub.status.idle": "2023-12-04T21:49:08.062946Z",
     "shell.execute_reply": "2023-12-04T21:49:08.062132Z"
    },
    "papermill": {
     "duration": 0.161549,
     "end_time": "2023-12-04T21:49:08.065421",
     "exception": false,
     "start_time": "2023-12-04T21:49:07.903872",
     "status": "completed"
    },
    "tags": []
   },
   "outputs": [],
   "source": [
    "y=tf.keras.utils.to_categorical(y,num_classes=10)\n"
   ]
  },
  {
   "cell_type": "code",
   "execution_count": 23,
   "id": "e1b01b62",
   "metadata": {
    "execution": {
     "iopub.execute_input": "2023-12-04T21:49:08.112182Z",
     "iopub.status.busy": "2023-12-04T21:49:08.111374Z",
     "iopub.status.idle": "2023-12-04T21:49:08.118131Z",
     "shell.execute_reply": "2023-12-04T21:49:08.117057Z"
    },
    "papermill": {
     "duration": 0.033231,
     "end_time": "2023-12-04T21:49:08.120728",
     "exception": false,
     "start_time": "2023-12-04T21:49:08.087497",
     "status": "completed"
    },
    "tags": []
   },
   "outputs": [
    {
     "data": {
      "text/plain": [
       "(42000, 10)"
      ]
     },
     "execution_count": 23,
     "metadata": {},
     "output_type": "execute_result"
    }
   ],
   "source": [
    "y.shape\n"
   ]
  },
  {
   "cell_type": "markdown",
   "id": "47770063",
   "metadata": {
    "papermill": {
     "duration": 0.021463,
     "end_time": "2023-12-04T21:49:08.164732",
     "exception": false,
     "start_time": "2023-12-04T21:49:08.143269",
     "status": "completed"
    },
    "tags": []
   },
   "source": [
    " Data Setup for Model"
   ]
  },
  {
   "cell_type": "code",
   "execution_count": 24,
   "id": "42c07cb3",
   "metadata": {
    "execution": {
     "iopub.execute_input": "2023-12-04T21:49:08.211443Z",
     "iopub.status.busy": "2023-12-04T21:49:08.210691Z",
     "iopub.status.idle": "2023-12-04T21:49:08.469338Z",
     "shell.execute_reply": "2023-12-04T21:49:08.467843Z"
    },
    "papermill": {
     "duration": 0.28577,
     "end_time": "2023-12-04T21:49:08.473018",
     "exception": false,
     "start_time": "2023-12-04T21:49:08.187248",
     "status": "completed"
    },
    "tags": []
   },
   "outputs": [],
   "source": [
    "from sklearn.model_selection import train_test_split\n"
   ]
  },
  {
   "cell_type": "code",
   "execution_count": 25,
   "id": "ebd314a8",
   "metadata": {
    "execution": {
     "iopub.execute_input": "2023-12-04T21:49:08.536254Z",
     "iopub.status.busy": "2023-12-04T21:49:08.535834Z",
     "iopub.status.idle": "2023-12-04T21:49:08.888493Z",
     "shell.execute_reply": "2023-12-04T21:49:08.887639Z"
    },
    "papermill": {
     "duration": 0.379612,
     "end_time": "2023-12-04T21:49:08.890896",
     "exception": false,
     "start_time": "2023-12-04T21:49:08.511284",
     "status": "completed"
    },
    "tags": []
   },
   "outputs": [],
   "source": [
    "#Additional Validation split is not required as validtion split is mentioned during the model.fit in neural networks\n",
    "X_train, X_test, y_train, y_test = train_test_split(X, y, test_size=0.2, random_state=42)\n"
   ]
  },
  {
   "cell_type": "code",
   "execution_count": 26,
   "id": "900d0969",
   "metadata": {
    "execution": {
     "iopub.execute_input": "2023-12-04T21:49:08.936212Z",
     "iopub.status.busy": "2023-12-04T21:49:08.934854Z",
     "iopub.status.idle": "2023-12-04T21:49:08.939483Z",
     "shell.execute_reply": "2023-12-04T21:49:08.938618Z"
    },
    "papermill": {
     "duration": 0.029535,
     "end_time": "2023-12-04T21:49:08.941417",
     "exception": false,
     "start_time": "2023-12-04T21:49:08.911882",
     "status": "completed"
    },
    "tags": []
   },
   "outputs": [],
   "source": [
    "# X_train, X_rem, y_train, y_rem = train_test_split(X, y, test_size=0.33, random_state=42)\n",
    "# # X_val, X_test, y_val, y_test = train_test_split(X_rem, y_rem, test_size=0.3, random_state=42)#\n"
   ]
  },
  {
   "cell_type": "code",
   "execution_count": 27,
   "id": "96629bf4",
   "metadata": {
    "execution": {
     "iopub.execute_input": "2023-12-04T21:49:08.988268Z",
     "iopub.status.busy": "2023-12-04T21:49:08.987837Z",
     "iopub.status.idle": "2023-12-04T21:49:08.993562Z",
     "shell.execute_reply": "2023-12-04T21:49:08.992475Z"
    },
    "papermill": {
     "duration": 0.032509,
     "end_time": "2023-12-04T21:49:08.995972",
     "exception": false,
     "start_time": "2023-12-04T21:49:08.963463",
     "status": "completed"
    },
    "tags": []
   },
   "outputs": [
    {
     "name": "stdout",
     "output_type": "stream",
     "text": [
      "The shape of train data (33600, 28, 28, 1) and test data (8400, 28, 28, 1)\n"
     ]
    }
   ],
   "source": [
    "\n",
    "print(f'The shape of train data {X_train.shape} and test data {X_test.shape}')\n"
   ]
  },
  {
   "cell_type": "markdown",
   "id": "87202691",
   "metadata": {
    "papermill": {
     "duration": 0.022603,
     "end_time": "2023-12-04T21:49:09.042311",
     "exception": false,
     "start_time": "2023-12-04T21:49:09.019708",
     "status": "completed"
    },
    "tags": []
   },
   "source": [
    " Setting up NN"
   ]
  },
  {
   "cell_type": "code",
   "execution_count": 28,
   "id": "6e51975f",
   "metadata": {
    "execution": {
     "iopub.execute_input": "2023-12-04T21:49:09.088319Z",
     "iopub.status.busy": "2023-12-04T21:49:09.087866Z",
     "iopub.status.idle": "2023-12-04T21:49:09.095703Z",
     "shell.execute_reply": "2023-12-04T21:49:09.094849Z"
    },
    "papermill": {
     "duration": 0.03363,
     "end_time": "2023-12-04T21:49:09.097864",
     "exception": false,
     "start_time": "2023-12-04T21:49:09.064234",
     "status": "completed"
    },
    "tags": []
   },
   "outputs": [],
   "source": [
    "import tensorflow as tf\n",
    "from tensorflow.keras.models import Sequential\n",
    "from tensorflow.keras.layers import Dense,BatchNormalization\n",
    "from tensorflow.keras.layers import Flatten\n",
    "from tensorflow.keras.layers import Dropout\n",
    "from tensorflow.keras import regularizers\n",
    "#from tensorflow.keras.layers import\n"
   ]
  },
  {
   "cell_type": "code",
   "execution_count": 29,
   "id": "8042d182",
   "metadata": {
    "execution": {
     "iopub.execute_input": "2023-12-04T21:49:09.144358Z",
     "iopub.status.busy": "2023-12-04T21:49:09.143593Z",
     "iopub.status.idle": "2023-12-04T21:49:09.147680Z",
     "shell.execute_reply": "2023-12-04T21:49:09.146781Z"
    },
    "papermill": {
     "duration": 0.029494,
     "end_time": "2023-12-04T21:49:09.149689",
     "exception": false,
     "start_time": "2023-12-04T21:49:09.120195",
     "status": "completed"
    },
    "tags": []
   },
   "outputs": [],
   "source": [
    "# from sklearn.svm import SVC\n",
    "# from sklearn.metrics import confusion_matrix\n"
   ]
  },
  {
   "cell_type": "code",
   "execution_count": 30,
   "id": "c9ef3d6a",
   "metadata": {
    "execution": {
     "iopub.execute_input": "2023-12-04T21:49:09.193201Z",
     "iopub.status.busy": "2023-12-04T21:49:09.192450Z",
     "iopub.status.idle": "2023-12-04T21:49:13.445505Z",
     "shell.execute_reply": "2023-12-04T21:49:13.444364Z"
    },
    "papermill": {
     "duration": 4.277494,
     "end_time": "2023-12-04T21:49:13.448125",
     "exception": false,
     "start_time": "2023-12-04T21:49:09.170631",
     "status": "completed"
    },
    "tags": []
   },
   "outputs": [],
   "source": [
    "model=Sequential()\n"
   ]
  },
  {
   "cell_type": "code",
   "execution_count": 31,
   "id": "23eb966b",
   "metadata": {
    "execution": {
     "iopub.execute_input": "2023-12-04T21:49:13.494045Z",
     "iopub.status.busy": "2023-12-04T21:49:13.493127Z",
     "iopub.status.idle": "2023-12-04T21:49:13.668778Z",
     "shell.execute_reply": "2023-12-04T21:49:13.667900Z"
    },
    "papermill": {
     "duration": 0.201708,
     "end_time": "2023-12-04T21:49:13.671408",
     "exception": false,
     "start_time": "2023-12-04T21:49:13.469700",
     "status": "completed"
    },
    "tags": []
   },
   "outputs": [],
   "source": [
    "#Flattening the data will convert it from (28,28) to (784)\n",
    "model.add(Flatten(input_shape=(28,28)))\n",
    "model.add(BatchNormalization())\n",
    "#model.add(Dense(784,activation=\"relu\"))\n",
    "model.add(Dense(784,activation=\"relu\"))\n",
    "model.add(BatchNormalization())\n",
    "#model.add(Dense(784,activation=\"relu\",kernel_regularizer='l2'))\n",
    "model.add(Dropout(0.5))\n",
    "model.add(Dense(128,activation=\"relu\"))\n",
    "model.add(BatchNormalization())\n",
    "model.add(Dense(10,activation=\"softmax\"))\n"
   ]
  },
  {
   "cell_type": "code",
   "execution_count": 32,
   "id": "6ca02571",
   "metadata": {
    "execution": {
     "iopub.execute_input": "2023-12-04T21:49:13.716498Z",
     "iopub.status.busy": "2023-12-04T21:49:13.715770Z",
     "iopub.status.idle": "2023-12-04T21:49:13.733682Z",
     "shell.execute_reply": "2023-12-04T21:49:13.732876Z"
    },
    "papermill": {
     "duration": 0.042542,
     "end_time": "2023-12-04T21:49:13.735802",
     "exception": false,
     "start_time": "2023-12-04T21:49:13.693260",
     "status": "completed"
    },
    "tags": []
   },
   "outputs": [],
   "source": [
    "model.compile(loss=\"categorical_crossentropy\",optimizer=\"adam\",metrics=[\"accuracy\"])\n"
   ]
  },
  {
   "cell_type": "code",
   "execution_count": 33,
   "id": "776b2bbb",
   "metadata": {
    "execution": {
     "iopub.execute_input": "2023-12-04T21:49:13.779478Z",
     "iopub.status.busy": "2023-12-04T21:49:13.779072Z",
     "iopub.status.idle": "2023-12-04T21:49:13.812986Z",
     "shell.execute_reply": "2023-12-04T21:49:13.811796Z"
    },
    "papermill": {
     "duration": 0.06809,
     "end_time": "2023-12-04T21:49:13.824640",
     "exception": false,
     "start_time": "2023-12-04T21:49:13.756550",
     "status": "completed"
    },
    "tags": []
   },
   "outputs": [
    {
     "name": "stdout",
     "output_type": "stream",
     "text": [
      "Model: \"sequential\"\n",
      "_________________________________________________________________\n",
      " Layer (type)                Output Shape              Param #   \n",
      "=================================================================\n",
      " flatten (Flatten)           (None, 784)               0         \n",
      "                                                                 \n",
      " batch_normalization (Batch  (None, 784)               3136      \n",
      " Normalization)                                                  \n",
      "                                                                 \n",
      " dense (Dense)               (None, 784)               615440    \n",
      "                                                                 \n",
      " batch_normalization_1 (Bat  (None, 784)               3136      \n",
      " chNormalization)                                                \n",
      "                                                                 \n",
      " dropout (Dropout)           (None, 784)               0         \n",
      "                                                                 \n",
      " dense_1 (Dense)             (None, 128)               100480    \n",
      "                                                                 \n",
      " batch_normalization_2 (Bat  (None, 128)               512       \n",
      " chNormalization)                                                \n",
      "                                                                 \n",
      " dense_2 (Dense)             (None, 10)                1290      \n",
      "                                                                 \n",
      "=================================================================\n",
      "Total params: 723994 (2.76 MB)\n",
      "Trainable params: 720602 (2.75 MB)\n",
      "Non-trainable params: 3392 (13.25 KB)\n",
      "_________________________________________________________________\n",
      "None\n"
     ]
    }
   ],
   "source": [
    "print(model.summary())\n"
   ]
  },
  {
   "cell_type": "code",
   "execution_count": 34,
   "id": "b68bb0a6",
   "metadata": {
    "execution": {
     "iopub.execute_input": "2023-12-04T21:49:13.876231Z",
     "iopub.status.busy": "2023-12-04T21:49:13.875219Z",
     "iopub.status.idle": "2023-12-04T21:49:56.610123Z",
     "shell.execute_reply": "2023-12-04T21:49:56.608966Z"
    },
    "papermill": {
     "duration": 42.763489,
     "end_time": "2023-12-04T21:49:56.612836",
     "exception": false,
     "start_time": "2023-12-04T21:49:13.849347",
     "status": "completed"
    },
    "tags": []
   },
   "outputs": [
    {
     "name": "stdout",
     "output_type": "stream",
     "text": [
      "Epoch 1/10\n",
      "336/336 - 9s - loss: 0.2956 - accuracy: 0.9078 - val_loss: 0.1362 - val_accuracy: 0.9600 - 9s/epoch - 27ms/step\n",
      "Epoch 2/10\n",
      "336/336 - 2s - loss: 0.1399 - accuracy: 0.9571 - val_loss: 0.1094 - val_accuracy: 0.9658 - 2s/epoch - 5ms/step\n",
      "Epoch 3/10\n",
      "336/336 - 2s - loss: 0.1030 - accuracy: 0.9671 - val_loss: 0.0976 - val_accuracy: 0.9683 - 2s/epoch - 5ms/step\n",
      "Epoch 4/10\n",
      "336/336 - 2s - loss: 0.0852 - accuracy: 0.9728 - val_loss: 0.1003 - val_accuracy: 0.9700 - 2s/epoch - 5ms/step\n",
      "Epoch 5/10\n",
      "336/336 - 2s - loss: 0.0730 - accuracy: 0.9764 - val_loss: 0.0890 - val_accuracy: 0.9727 - 2s/epoch - 5ms/step\n",
      "Epoch 6/10\n",
      "336/336 - 2s - loss: 0.0626 - accuracy: 0.9796 - val_loss: 0.0825 - val_accuracy: 0.9746 - 2s/epoch - 5ms/step\n",
      "Epoch 7/10\n",
      "336/336 - 2s - loss: 0.0565 - accuracy: 0.9815 - val_loss: 0.0824 - val_accuracy: 0.9744 - 2s/epoch - 5ms/step\n",
      "Epoch 8/10\n",
      "336/336 - 2s - loss: 0.0502 - accuracy: 0.9835 - val_loss: 0.0819 - val_accuracy: 0.9751 - 2s/epoch - 5ms/step\n",
      "Epoch 9/10\n",
      "336/336 - 2s - loss: 0.0433 - accuracy: 0.9860 - val_loss: 0.0840 - val_accuracy: 0.9755 - 2s/epoch - 5ms/step\n",
      "Epoch 10/10\n",
      "336/336 - 2s - loss: 0.0401 - accuracy: 0.9866 - val_loss: 0.0833 - val_accuracy: 0.9773 - 2s/epoch - 5ms/step\n"
     ]
    }
   ],
   "source": [
    "history=model.fit(X_train,y_train,epochs=10,batch_size=100,verbose=2,validation_data=(X_test,y_test),validation_split=0.1)\n"
   ]
  },
  {
   "cell_type": "markdown",
   "id": "1c483515",
   "metadata": {
    "papermill": {
     "duration": 0.026842,
     "end_time": "2023-12-04T21:49:56.666513",
     "exception": false,
     "start_time": "2023-12-04T21:49:56.639671",
     "status": "completed"
    },
    "tags": []
   },
   "source": [
    " Model Evaluation"
   ]
  },
  {
   "cell_type": "code",
   "execution_count": 35,
   "id": "ea253adf",
   "metadata": {
    "execution": {
     "iopub.execute_input": "2023-12-04T21:49:56.721292Z",
     "iopub.status.busy": "2023-12-04T21:49:56.720909Z",
     "iopub.status.idle": "2023-12-04T21:49:56.728010Z",
     "shell.execute_reply": "2023-12-04T21:49:56.727112Z"
    },
    "papermill": {
     "duration": 0.036529,
     "end_time": "2023-12-04T21:49:56.730310",
     "exception": false,
     "start_time": "2023-12-04T21:49:56.693781",
     "status": "completed"
    },
    "tags": []
   },
   "outputs": [
    {
     "data": {
      "text/plain": [
       "{'loss': [0.2955891489982605,\n",
       "  0.13992708921432495,\n",
       "  0.10302568972110748,\n",
       "  0.08521565049886703,\n",
       "  0.07299374043941498,\n",
       "  0.06257031857967377,\n",
       "  0.056451886892318726,\n",
       "  0.050164543092250824,\n",
       "  0.04331950098276138,\n",
       "  0.04009057581424713],\n",
       " 'accuracy': [0.9078273773193359,\n",
       "  0.9570833444595337,\n",
       "  0.9671130776405334,\n",
       "  0.9727976322174072,\n",
       "  0.9763690233230591,\n",
       "  0.9795833230018616,\n",
       "  0.9815178513526917,\n",
       "  0.9834523797035217,\n",
       "  0.9859821200370789,\n",
       "  0.9866368770599365],\n",
       " 'val_loss': [0.1361800879240036,\n",
       "  0.10940840095281601,\n",
       "  0.09761019796133041,\n",
       "  0.10026875138282776,\n",
       "  0.08899211138486862,\n",
       "  0.0824955552816391,\n",
       "  0.08240250498056412,\n",
       "  0.08190983533859253,\n",
       "  0.0840303972363472,\n",
       "  0.08329546451568604],\n",
       " 'val_accuracy': [0.9599999785423279,\n",
       "  0.965833306312561,\n",
       "  0.9683333039283752,\n",
       "  0.9700000286102295,\n",
       "  0.9727380871772766,\n",
       "  0.9746428728103638,\n",
       "  0.9744047522544861,\n",
       "  0.9751190543174744,\n",
       "  0.9754762053489685,\n",
       "  0.9772619009017944]}"
      ]
     },
     "execution_count": 35,
     "metadata": {},
     "output_type": "execute_result"
    }
   ],
   "source": [
    "model.history.history\n"
   ]
  },
  {
   "cell_type": "code",
   "execution_count": 36,
   "id": "2f3ac0bc",
   "metadata": {
    "execution": {
     "iopub.execute_input": "2023-12-04T21:49:56.780331Z",
     "iopub.status.busy": "2023-12-04T21:49:56.779987Z",
     "iopub.status.idle": "2023-12-04T21:49:57.658411Z",
     "shell.execute_reply": "2023-12-04T21:49:57.657373Z"
    },
    "papermill": {
     "duration": 0.906026,
     "end_time": "2023-12-04T21:49:57.661146",
     "exception": false,
     "start_time": "2023-12-04T21:49:56.755120",
     "status": "completed"
    },
    "tags": []
   },
   "outputs": [
    {
     "name": "stdout",
     "output_type": "stream",
     "text": [
      "263/263 [==============================] - 1s 2ms/step\n"
     ]
    }
   ],
   "source": [
    "predictions=model.predict(X_test)\n"
   ]
  },
  {
   "cell_type": "code",
   "execution_count": 37,
   "id": "f33096a1",
   "metadata": {
    "execution": {
     "iopub.execute_input": "2023-12-04T21:49:57.719242Z",
     "iopub.status.busy": "2023-12-04T21:49:57.718293Z",
     "iopub.status.idle": "2023-12-04T21:49:57.725070Z",
     "shell.execute_reply": "2023-12-04T21:49:57.724054Z"
    },
    "papermill": {
     "duration": 0.038542,
     "end_time": "2023-12-04T21:49:57.727450",
     "exception": false,
     "start_time": "2023-12-04T21:49:57.688908",
     "status": "completed"
    },
    "tags": []
   },
   "outputs": [
    {
     "data": {
      "text/plain": [
       "(8400, 10)"
      ]
     },
     "execution_count": 37,
     "metadata": {},
     "output_type": "execute_result"
    }
   ],
   "source": [
    "predictions.shape\n"
   ]
  },
  {
   "cell_type": "code",
   "execution_count": 38,
   "id": "50d2f837",
   "metadata": {
    "execution": {
     "iopub.execute_input": "2023-12-04T21:49:57.784315Z",
     "iopub.status.busy": "2023-12-04T21:49:57.783607Z",
     "iopub.status.idle": "2023-12-04T21:49:57.789936Z",
     "shell.execute_reply": "2023-12-04T21:49:57.788946Z"
    },
    "papermill": {
     "duration": 0.037204,
     "end_time": "2023-12-04T21:49:57.792461",
     "exception": false,
     "start_time": "2023-12-04T21:49:57.755257",
     "status": "completed"
    },
    "tags": []
   },
   "outputs": [
    {
     "data": {
      "text/plain": [
       "(8400, 10)"
      ]
     },
     "execution_count": 38,
     "metadata": {},
     "output_type": "execute_result"
    }
   ],
   "source": [
    "y_test.shape\n"
   ]
  },
  {
   "cell_type": "code",
   "execution_count": 39,
   "id": "ccf29c79",
   "metadata": {
    "execution": {
     "iopub.execute_input": "2023-12-04T21:49:57.849238Z",
     "iopub.status.busy": "2023-12-04T21:49:57.848400Z",
     "iopub.status.idle": "2023-12-04T21:49:57.852731Z",
     "shell.execute_reply": "2023-12-04T21:49:57.851862Z"
    },
    "papermill": {
     "duration": 0.032514,
     "end_time": "2023-12-04T21:49:57.854651",
     "exception": false,
     "start_time": "2023-12-04T21:49:57.822137",
     "status": "completed"
    },
    "tags": []
   },
   "outputs": [],
   "source": [
    "# model.summary()\n"
   ]
  },
  {
   "cell_type": "code",
   "execution_count": 40,
   "id": "2a96ee3b",
   "metadata": {
    "execution": {
     "iopub.execute_input": "2023-12-04T21:49:57.906308Z",
     "iopub.status.busy": "2023-12-04T21:49:57.905654Z",
     "iopub.status.idle": "2023-12-04T21:49:58.958216Z",
     "shell.execute_reply": "2023-12-04T21:49:58.957248Z"
    },
    "papermill": {
     "duration": 1.081058,
     "end_time": "2023-12-04T21:49:58.960550",
     "exception": false,
     "start_time": "2023-12-04T21:49:57.879492",
     "status": "completed"
    },
    "tags": []
   },
   "outputs": [
    {
     "name": "stdout",
     "output_type": "stream",
     "text": [
      "263/263 [==============================] - 1s 3ms/step - loss: 0.0833 - accuracy: 0.9773\n"
     ]
    },
    {
     "data": {
      "text/plain": [
       "[0.08329547941684723, 0.9772619009017944]"
      ]
     },
     "execution_count": 40,
     "metadata": {},
     "output_type": "execute_result"
    }
   ],
   "source": [
    "model.evaluate(X_test,y_test)\n"
   ]
  },
  {
   "cell_type": "code",
   "execution_count": 41,
   "id": "e011f3d3",
   "metadata": {
    "execution": {
     "iopub.execute_input": "2023-12-04T21:49:59.026070Z",
     "iopub.status.busy": "2023-12-04T21:49:59.025298Z",
     "iopub.status.idle": "2023-12-04T21:49:59.730495Z",
     "shell.execute_reply": "2023-12-04T21:49:59.729540Z"
    },
    "papermill": {
     "duration": 0.740002,
     "end_time": "2023-12-04T21:49:59.732893",
     "exception": false,
     "start_time": "2023-12-04T21:49:58.992891",
     "status": "completed"
    },
    "tags": []
   },
   "outputs": [],
   "source": [
    "#the output of model.evaluate gives out a tuple: loss, metric specified in model.compile\n",
    "scores = model.evaluate(X_test,y_test, verbose=0)\n"
   ]
  },
  {
   "cell_type": "code",
   "execution_count": 42,
   "id": "de731f8c",
   "metadata": {
    "execution": {
     "iopub.execute_input": "2023-12-04T21:49:59.790022Z",
     "iopub.status.busy": "2023-12-04T21:49:59.789613Z",
     "iopub.status.idle": "2023-12-04T21:49:59.795889Z",
     "shell.execute_reply": "2023-12-04T21:49:59.794934Z"
    },
    "papermill": {
     "duration": 0.037193,
     "end_time": "2023-12-04T21:49:59.797963",
     "exception": false,
     "start_time": "2023-12-04T21:49:59.760770",
     "status": "completed"
    },
    "tags": []
   },
   "outputs": [
    {
     "data": {
      "text/plain": [
       "[0.08329547941684723, 0.9772619009017944]"
      ]
     },
     "execution_count": 42,
     "metadata": {},
     "output_type": "execute_result"
    }
   ],
   "source": [
    "scores\n"
   ]
  },
  {
   "cell_type": "code",
   "execution_count": 43,
   "id": "a12fc36b",
   "metadata": {
    "execution": {
     "iopub.execute_input": "2023-12-04T21:49:59.859611Z",
     "iopub.status.busy": "2023-12-04T21:49:59.858548Z",
     "iopub.status.idle": "2023-12-04T21:50:00.232592Z",
     "shell.execute_reply": "2023-12-04T21:50:00.231556Z"
    },
    "papermill": {
     "duration": 0.408318,
     "end_time": "2023-12-04T21:50:00.235036",
     "exception": false,
     "start_time": "2023-12-04T21:49:59.826718",
     "status": "completed"
    },
    "tags": []
   },
   "outputs": [
    {
     "data": {
      "text/plain": [
       "<Axes: >"
      ]
     },
     "execution_count": 43,
     "metadata": {},
     "output_type": "execute_result"
    },
    {
     "data": {
      "image/png": "[encoded data removed]",
      "text/plain": [
       "<Figure size 800x500 with 1 Axes>"
      ]
     },
     "metadata": {},
     "output_type": "display_data"
    }
   ],
   "source": [
    "pd.DataFrame(history.history).plot(figsize=(8, 5))\n"
   ]
  },
  {
   "cell_type": "markdown",
   "id": "fcffbb3f",
   "metadata": {
    "papermill": {
     "duration": 0.029867,
     "end_time": "2023-12-04T21:50:00.296711",
     "exception": false,
     "start_time": "2023-12-04T21:50:00.266844",
     "status": "completed"
    },
    "tags": []
   },
   "source": [
    " Building a CNN"
   ]
  },
  {
   "cell_type": "code",
   "execution_count": 44,
   "id": "9690b573",
   "metadata": {
    "execution": {
     "iopub.execute_input": "2023-12-04T21:50:00.356326Z",
     "iopub.status.busy": "2023-12-04T21:50:00.355585Z",
     "iopub.status.idle": "2023-12-04T21:50:00.360875Z",
     "shell.execute_reply": "2023-12-04T21:50:00.359850Z"
    },
    "papermill": {
     "duration": 0.036855,
     "end_time": "2023-12-04T21:50:00.363010",
     "exception": false,
     "start_time": "2023-12-04T21:50:00.326155",
     "status": "completed"
    },
    "tags": []
   },
   "outputs": [],
   "source": [
    "from tensorflow.keras.models import Sequential\n",
    "from tensorflow.keras.layers import Dense,BatchNormalization,Conv2D,MaxPooling2D,Dropout,Input\n",
    "from tensorflow.keras.layers import Flatten\n",
    "\n"
   ]
  },
  {
   "cell_type": "code",
   "execution_count": 45,
   "id": "edb5298c",
   "metadata": {
    "execution": {
     "iopub.execute_input": "2023-12-04T21:50:00.420877Z",
     "iopub.status.busy": "2023-12-04T21:50:00.420117Z",
     "iopub.status.idle": "2023-12-04T21:50:00.427902Z",
     "shell.execute_reply": "2023-12-04T21:50:00.426919Z"
    },
    "papermill": {
     "duration": 0.039239,
     "end_time": "2023-12-04T21:50:00.430463",
     "exception": false,
     "start_time": "2023-12-04T21:50:00.391224",
     "status": "completed"
    },
    "tags": []
   },
   "outputs": [],
   "source": [
    "model2=Sequential()\n"
   ]
  },
  {
   "cell_type": "code",
   "execution_count": 46,
   "id": "5c9c9be4",
   "metadata": {
    "execution": {
     "iopub.execute_input": "2023-12-04T21:50:00.493656Z",
     "iopub.status.busy": "2023-12-04T21:50:00.492754Z",
     "iopub.status.idle": "2023-12-04T21:50:00.610610Z",
     "shell.execute_reply": "2023-12-04T21:50:00.609719Z"
    },
    "papermill": {
     "duration": 0.151767,
     "end_time": "2023-12-04T21:50:00.612975",
     "exception": false,
     "start_time": "2023-12-04T21:50:00.461208",
     "status": "completed"
    },
    "tags": []
   },
   "outputs": [],
   "source": [
    "#model2.add(Flatten(input_shape=(28,28)))\n",
    "model2.add(Input(shape=(28,28,1)))\n",
    "model2.add(Conv2D(32,kernel_size=(3,3),activation='relu'))\n",
    "model2.add(BatchNormalization())\n",
    "model2.add(MaxPooling2D(pool_size=(2,2)))\n",
    "model2.add(Conv2D(64,kernel_size=(3,3),activation='relu'))\n",
    "model2.add(BatchNormalization())\n",
    "model2.add(MaxPooling2D(pool_size=(2,2)))\n",
    "model2.add(Flatten())\n",
    "model2.add(Dense(100,activation='relu'))\n",
    "model2.add(Dropout(0.5))\n",
    "model2.add(Dense(10,activation='softmax'))\n"
   ]
  },
  {
   "cell_type": "code",
   "execution_count": 47,
   "id": "0f88eee1",
   "metadata": {
    "execution": {
     "iopub.execute_input": "2023-12-04T21:50:00.669459Z",
     "iopub.status.busy": "2023-12-04T21:50:00.668745Z",
     "iopub.status.idle": "2023-12-04T21:50:00.673425Z",
     "shell.execute_reply": "2023-12-04T21:50:00.672560Z"
    },
    "papermill": {
     "duration": 0.034617,
     "end_time": "2023-12-04T21:50:00.675454",
     "exception": false,
     "start_time": "2023-12-04T21:50:00.640837",
     "status": "completed"
    },
    "tags": []
   },
   "outputs": [],
   "source": [
    "# #Using LeNet-5\n",
    "# model2 = Sequential()\n",
    "# model2.add(Input(shape=(28,28,1)))\n",
    "# model2.add(layers.Conv2D(filters=6, kernel_size=(3, 3), activation='relu', input_shape=(32,32,1)))\n",
    "# model2.add(layers.AveragePooling2D())\n",
    "\n",
    "# model2.add(layers.Conv2D(filters=16, kernel_size=(3, 3), activation='relu'))\n",
    "# model2.add(layers.AveragePooling2D())\n",
    "\n",
    "# model2.add(layers.Flatten())\n",
    "\n",
    "# model2.add(layers.Dense(units=120, activation='relu'))\n",
    "\n",
    "# model2.add(layers.Dense(units=84, activation='relu'))\n",
    "\n",
    "# model2.add(layers.Dense(units=10, activation = 'softmax'))\n"
   ]
  },
  {
   "cell_type": "code",
   "execution_count": 48,
   "id": "f01d18c1",
   "metadata": {
    "execution": {
     "iopub.execute_input": "2023-12-04T21:50:00.732921Z",
     "iopub.status.busy": "2023-12-04T21:50:00.732010Z",
     "iopub.status.idle": "2023-12-04T21:50:00.744657Z",
     "shell.execute_reply": "2023-12-04T21:50:00.743633Z"
    },
    "papermill": {
     "duration": 0.045047,
     "end_time": "2023-12-04T21:50:00.747217",
     "exception": false,
     "start_time": "2023-12-04T21:50:00.702170",
     "status": "completed"
    },
    "tags": []
   },
   "outputs": [],
   "source": [
    "model2.compile(loss=\"categorical_crossentropy\",optimizer=\"adam\",metrics=[\"accuracy\"])\n"
   ]
  },
  {
   "cell_type": "code",
   "execution_count": 49,
   "id": "f17d72d3",
   "metadata": {
    "execution": {
     "iopub.execute_input": "2023-12-04T21:50:00.808030Z",
     "iopub.status.busy": "2023-12-04T21:50:00.807110Z",
     "iopub.status.idle": "2023-12-04T21:50:00.844097Z",
     "shell.execute_reply": "2023-12-04T21:50:00.842909Z"
    },
    "papermill": {
     "duration": 0.082744,
     "end_time": "2023-12-04T21:50:00.859343",
     "exception": false,
     "start_time": "2023-12-04T21:50:00.776599",
     "status": "completed"
    },
    "tags": []
   },
   "outputs": [
    {
     "name": "stdout",
     "output_type": "stream",
     "text": [
      "Model: \"sequential_1\"\n",
      "_________________________________________________________________\n",
      " Layer (type)                Output Shape              Param #   \n",
      "=================================================================\n",
      " conv2d (Conv2D)             (None, 26, 26, 32)        320       \n",
      "                                                                 \n",
      " batch_normalization_3 (Bat  (None, 26, 26, 32)        128       \n",
      " chNormalization)                                                \n",
      "                                                                 \n",
      " max_pooling2d (MaxPooling2  (None, 13, 13, 32)        0         \n",
      " D)                                                              \n",
      "                                                                 \n",
      " conv2d_1 (Conv2D)           (None, 11, 11, 64)        18496     \n",
      "                                                                 \n",
      " batch_normalization_4 (Bat  (None, 11, 11, 64)        256       \n",
      " chNormalization)                                                \n",
      "                                                                 \n",
      " max_pooling2d_1 (MaxPoolin  (None, 5, 5, 64)          0         \n",
      " g2D)                                                            \n",
      "                                                                 \n",
      " flatten_1 (Flatten)         (None, 1600)              0         \n",
      "                                                                 \n",
      " dense_3 (Dense)             (None, 100)               160100    \n",
      "                                                                 \n",
      " dropout_1 (Dropout)         (None, 100)               0         \n",
      "                                                                 \n",
      " dense_4 (Dense)             (None, 10)                1010      \n",
      "                                                                 \n",
      "=================================================================\n",
      "Total params: 180310 (704.34 KB)\n",
      "Trainable params: 180118 (703.59 KB)\n",
      "Non-trainable params: 192 (768.00 Byte)\n",
      "_________________________________________________________________\n",
      "None\n"
     ]
    }
   ],
   "source": [
    "print(model2.summary())\n"
   ]
  },
  {
   "cell_type": "code",
   "execution_count": 50,
   "id": "ec6af1f6",
   "metadata": {
    "execution": {
     "iopub.execute_input": "2023-12-04T21:50:00.925253Z",
     "iopub.status.busy": "2023-12-04T21:50:00.924821Z",
     "iopub.status.idle": "2023-12-04T21:50:23.466405Z",
     "shell.execute_reply": "2023-12-04T21:50:23.465400Z"
    },
    "papermill": {
     "duration": 22.576763,
     "end_time": "2023-12-04T21:50:23.468517",
     "exception": false,
     "start_time": "2023-12-04T21:50:00.891754",
     "status": "completed"
    },
    "tags": []
   },
   "outputs": [
    {
     "name": "stdout",
     "output_type": "stream",
     "text": [
      "Epoch 1/10\n",
      "303/303 - 10s - loss: 0.3423 - accuracy: 0.8968 - val_loss: 1.5569 - val_accuracy: 0.4646 - 10s/epoch - 31ms/step\n",
      "Epoch 2/10\n",
      "303/303 - 1s - loss: 0.1155 - accuracy: 0.9661 - val_loss: 0.0529 - val_accuracy: 0.9851 - 1s/epoch - 5ms/step\n",
      "Epoch 3/10\n",
      "303/303 - 1s - loss: 0.0862 - accuracy: 0.9745 - val_loss: 0.0730 - val_accuracy: 0.9818 - 1s/epoch - 5ms/step\n",
      "Epoch 4/10\n",
      "303/303 - 1s - loss: 0.0699 - accuracy: 0.9786 - val_loss: 0.0476 - val_accuracy: 0.9866 - 1s/epoch - 5ms/step\n",
      "Epoch 5/10\n",
      "303/303 - 1s - loss: 0.0607 - accuracy: 0.9813 - val_loss: 0.0524 - val_accuracy: 0.9860 - 1s/epoch - 5ms/step\n",
      "Epoch 6/10\n",
      "303/303 - 1s - loss: 0.0514 - accuracy: 0.9851 - val_loss: 0.0395 - val_accuracy: 0.9896 - 1s/epoch - 5ms/step\n",
      "Epoch 7/10\n",
      "303/303 - 1s - loss: 0.0491 - accuracy: 0.9849 - val_loss: 0.0464 - val_accuracy: 0.9884 - 1s/epoch - 5ms/step\n",
      "Epoch 8/10\n",
      "303/303 - 1s - loss: 0.0398 - accuracy: 0.9870 - val_loss: 0.0520 - val_accuracy: 0.9878 - 1s/epoch - 5ms/step\n",
      "Epoch 9/10\n",
      "303/303 - 1s - loss: 0.0367 - accuracy: 0.9888 - val_loss: 0.0413 - val_accuracy: 0.9896 - 1s/epoch - 5ms/step\n",
      "Epoch 10/10\n",
      "303/303 - 1s - loss: 0.0338 - accuracy: 0.9895 - val_loss: 0.0338 - val_accuracy: 0.9920 - 1s/epoch - 5ms/step\n"
     ]
    }
   ],
   "source": [
    "history2=model2.fit(X_train,y_train,epochs=10,batch_size=100,verbose=2,validation_split=0.1)\n"
   ]
  },
  {
   "cell_type": "code",
   "execution_count": 51,
   "id": "b5914502",
   "metadata": {
    "execution": {
     "iopub.execute_input": "2023-12-04T21:50:23.539620Z",
     "iopub.status.busy": "2023-12-04T21:50:23.538538Z",
     "iopub.status.idle": "2023-12-04T21:50:23.899940Z",
     "shell.execute_reply": "2023-12-04T21:50:23.898888Z"
    },
    "papermill": {
     "duration": 0.399523,
     "end_time": "2023-12-04T21:50:23.902223",
     "exception": false,
     "start_time": "2023-12-04T21:50:23.502700",
     "status": "completed"
    },
    "tags": []
   },
   "outputs": [
    {
     "data": {
      "text/plain": [
       "<Axes: >"
      ]
     },
     "execution_count": 51,
     "metadata": {},
     "output_type": "execute_result"
    },
    {
     "data": {
      "image/png": "[encoded data removed]",
      "text/plain": [
       "<Figure size 800x500 with 1 Axes>"
      ]
     },
     "metadata": {},
     "output_type": "display_data"
    }
   ],
   "source": [
    "pd.DataFrame(history2.history).plot(figsize=(8, 5))\n"
   ]
  },
  {
   "cell_type": "code",
   "execution_count": 52,
   "id": "794af11e",
   "metadata": {
    "execution": {
     "iopub.execute_input": "2023-12-04T21:50:23.972322Z",
     "iopub.status.busy": "2023-12-04T21:50:23.971832Z",
     "iopub.status.idle": "2023-12-04T21:50:24.842606Z",
     "shell.execute_reply": "2023-12-04T21:50:24.841718Z"
    },
    "papermill": {
     "duration": 0.908575,
     "end_time": "2023-12-04T21:50:24.845049",
     "exception": false,
     "start_time": "2023-12-04T21:50:23.936474",
     "status": "completed"
    },
    "tags": []
   },
   "outputs": [
    {
     "name": "stdout",
     "output_type": "stream",
     "text": [
      "263/263 [==============================] - 1s 2ms/step\n"
     ]
    }
   ],
   "source": [
    "cnn_predict=model2.predict(X_test)\n"
   ]
  },
  {
   "cell_type": "code",
   "execution_count": 53,
   "id": "e75f29f3",
   "metadata": {
    "execution": {
     "iopub.execute_input": "2023-12-04T21:50:24.917565Z",
     "iopub.status.busy": "2023-12-04T21:50:24.916627Z",
     "iopub.status.idle": "2023-12-04T21:50:25.799684Z",
     "shell.execute_reply": "2023-12-04T21:50:25.798612Z"
    },
    "papermill": {
     "duration": 0.922461,
     "end_time": "2023-12-04T21:50:25.802056",
     "exception": false,
     "start_time": "2023-12-04T21:50:24.879595",
     "status": "completed"
    },
    "tags": []
   },
   "outputs": [
    {
     "name": "stdout",
     "output_type": "stream",
     "text": [
      "263/263 [==============================] - 1s 3ms/step - loss: 0.0396 - accuracy: 0.9907\n"
     ]
    },
    {
     "data": {
      "text/plain": [
       "[0.03958265110850334, 0.9907143115997314]"
      ]
     },
     "execution_count": 53,
     "metadata": {},
     "output_type": "execute_result"
    }
   ],
   "source": [
    "model2.evaluate(X_test,y_test)\n"
   ]
  },
  {
   "cell_type": "markdown",
   "id": "f93a8544",
   "metadata": {
    "papermill": {
     "duration": 0.037439,
     "end_time": "2023-12-04T21:50:25.877436",
     "exception": false,
     "start_time": "2023-12-04T21:50:25.839997",
     "status": "completed"
    },
    "tags": []
   },
   "source": [
    "**Test Prediction**"
   ]
  },
  {
   "cell_type": "code",
   "execution_count": 54,
   "id": "5776088d",
   "metadata": {
    "execution": {
     "iopub.execute_input": "2023-12-04T21:50:25.953354Z",
     "iopub.status.busy": "2023-12-04T21:50:25.952969Z",
     "iopub.status.idle": "2023-12-04T21:50:28.323589Z",
     "shell.execute_reply": "2023-12-04T21:50:28.322518Z"
    },
    "papermill": {
     "duration": 2.410957,
     "end_time": "2023-12-04T21:50:28.326232",
     "exception": false,
     "start_time": "2023-12-04T21:50:25.915275",
     "status": "completed"
    },
    "tags": []
   },
   "outputs": [],
   "source": [
    "test_data=pd.read_csv(\"/kaggle/input/digit-recognizer/test.csv\")\n"
   ]
  },
  {
   "cell_type": "code",
   "execution_count": 55,
   "id": "8381f8a6",
   "metadata": {
    "execution": {
     "iopub.execute_input": "2023-12-04T21:50:28.401919Z",
     "iopub.status.busy": "2023-12-04T21:50:28.401542Z",
     "iopub.status.idle": "2023-12-04T21:50:28.449314Z",
     "shell.execute_reply": "2023-12-04T21:50:28.448217Z"
    },
    "papermill": {
     "duration": 0.088091,
     "end_time": "2023-12-04T21:50:28.451895",
     "exception": false,
     "start_time": "2023-12-04T21:50:28.363804",
     "status": "completed"
    },
    "tags": []
   },
   "outputs": [],
   "source": [
    "test_X=test_data/255\n"
   ]
  },
  {
   "cell_type": "code",
   "execution_count": 56,
   "id": "2493d554",
   "metadata": {
    "execution": {
     "iopub.execute_input": "2023-12-04T21:50:28.527717Z",
     "iopub.status.busy": "2023-12-04T21:50:28.526741Z",
     "iopub.status.idle": "2023-12-04T21:50:28.532132Z",
     "shell.execute_reply": "2023-12-04T21:50:28.531044Z"
    },
    "papermill": {
     "duration": 0.045962,
     "end_time": "2023-12-04T21:50:28.534349",
     "exception": false,
     "start_time": "2023-12-04T21:50:28.488387",
     "status": "completed"
    },
    "tags": []
   },
   "outputs": [],
   "source": [
    "test_X=test_X.values.reshape(-1,28,28,1)\n"
   ]
  },
  {
   "cell_type": "code",
   "execution_count": 57,
   "id": "a7abbc27",
   "metadata": {
    "execution": {
     "iopub.execute_input": "2023-12-04T21:50:28.615045Z",
     "iopub.status.busy": "2023-12-04T21:50:28.614060Z",
     "iopub.status.idle": "2023-12-04T21:50:31.228115Z",
     "shell.execute_reply": "2023-12-04T21:50:31.227257Z"
    },
    "papermill": {
     "duration": 2.657062,
     "end_time": "2023-12-04T21:50:31.230673",
     "exception": false,
     "start_time": "2023-12-04T21:50:28.573611",
     "status": "completed"
    },
    "tags": []
   },
   "outputs": [
    {
     "name": "stdout",
     "output_type": "stream",
     "text": [
      "875/875 [==============================] - 2s 2ms/step\n"
     ]
    }
   ],
   "source": [
    "new_predict=model2.predict(test_X)\n"
   ]
  },
  {
   "cell_type": "code",
   "execution_count": 58,
   "id": "e7cdf7c4",
   "metadata": {
    "execution": {
     "iopub.execute_input": "2023-12-04T21:50:31.310209Z",
     "iopub.status.busy": "2023-12-04T21:50:31.309547Z",
     "iopub.status.idle": "2023-12-04T21:50:31.315144Z",
     "shell.execute_reply": "2023-12-04T21:50:31.314316Z"
    },
    "papermill": {
     "duration": 0.046102,
     "end_time": "2023-12-04T21:50:31.317329",
     "exception": false,
     "start_time": "2023-12-04T21:50:31.271227",
     "status": "completed"
    },
    "tags": []
   },
   "outputs": [],
   "source": [
    "new_predict1=np.argmax(new_predict,axis=1)"
   ]
  },
  {
   "cell_type": "code",
   "execution_count": 59,
   "id": "5c5eab8e",
   "metadata": {
    "execution": {
     "iopub.execute_input": "2023-12-04T21:50:31.403202Z",
     "iopub.status.busy": "2023-12-04T21:50:31.402342Z",
     "iopub.status.idle": "2023-12-04T21:50:31.409307Z",
     "shell.execute_reply": "2023-12-04T21:50:31.408335Z"
    },
    "papermill": {
     "duration": 0.050449,
     "end_time": "2023-12-04T21:50:31.411463",
     "exception": false,
     "start_time": "2023-12-04T21:50:31.361014",
     "status": "completed"
    },
    "tags": []
   },
   "outputs": [],
   "source": [
    "results = pd.Series(new_predict1,name=\"Label\")\n",
    "\n",
    "submission=pd.concat([pd.Series(range(1,28001),name = \"ImageId\"),results],axis = 1)"
   ]
  },
  {
   "cell_type": "code",
   "execution_count": 60,
   "id": "4ba22eae",
   "metadata": {
    "execution": {
     "iopub.execute_input": "2023-12-04T21:50:31.494303Z",
     "iopub.status.busy": "2023-12-04T21:50:31.493766Z",
     "iopub.status.idle": "2023-12-04T21:50:31.556650Z",
     "shell.execute_reply": "2023-12-04T21:50:31.555790Z"
    },
    "papermill": {
     "duration": 0.106663,
     "end_time": "2023-12-04T21:50:31.558967",
     "exception": false,
     "start_time": "2023-12-04T21:50:31.452304",
     "status": "completed"
    },
    "tags": []
   },
   "outputs": [],
   "source": [
    "submission.to_csv(\"submission.csv\",index=False)"
   ]
  },
  {
   "cell_type": "code",
   "execution_count": null,
   "id": "6606028e",
   "metadata": {
    "papermill": {
     "duration": 0.039793,
     "end_time": "2023-12-04T21:50:31.637004",
     "exception": false,
     "start_time": "2023-12-04T21:50:31.597211",
     "status": "completed"
    },
    "tags": []
   },
   "outputs": [],
   "source": []
  }
 ],
 "metadata": {
  "kaggle": {
   "accelerator": "nvidiaTeslaT4",
   "dataSources": [
    {
     "databundleVersionId": 861823,
     "sourceId": 3004,
     "sourceType": "competition"
    }
   ],
   "dockerImageVersionId": 30588,
   "isGpuEnabled": true,
   "isInternetEnabled": true,
   "language": "python",
   "sourceType": "notebook"
  },
  "kernelspec": {
   "display_name": "Python 3",
   "language": "python",
   "name": "python3"
  },
  "language_info": {
   "codemirror_mode": {
    "name": "ipython",
    "version": 3
   },
   "file_extension": ".py",
   "mimetype": "text/x-python",
   "name": "python",
   "nbconvert_exporter": "python",
   "pygments_lexer": "ipython3",
   "version": "3.10.12"
  },
  "papermill": {
   "default_parameters": {},
   "duration": 113.945494,
   "end_time": "2023-12-04T21:50:35.573329",
   "environment_variables": {},
   "exception": null,
   "input_path": "__notebook__.ipynb",
   "output_path": "__notebook__.ipynb",
   "parameters": {},
   "start_time": "2023-12-04T21:48:41.627835",
   "version": "2.4.0"
  }
 },
 "nbformat": 4,
 "nbformat_minor": 5
}
