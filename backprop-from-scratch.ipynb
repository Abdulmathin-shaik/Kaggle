{
 "cells": [
  {
   "cell_type": "code",
   "execution_count": 1,
   "id": "0698b45d",
   "metadata": {
    "_cell_guid": "b1076dfc-b9ad-4769-8c92-a6c4dae69d19",
    "_uuid": "8f2839f25d086af736a60e9eeb907d3b93b6e0e5",
    "execution": {
     "iopub.execute_input": "2025-01-11T19:55:52.870199Z",
     "iopub.status.busy": "2025-01-11T19:55:52.869805Z",
     "iopub.status.idle": "2025-01-11T19:55:53.231802Z",
     "shell.execute_reply": "2025-01-11T19:55:53.230750Z"
    },
    "papermill": {
     "duration": 0.369586,
     "end_time": "2025-01-11T19:55:53.233698",
     "exception": false,
     "start_time": "2025-01-11T19:55:52.864112",
     "status": "completed"
    },
    "tags": []
   },
   "outputs": [],
   "source": [
    "# This Python 3 environment comes with many helpful analytics libraries installed\n",
    "# It is defined by the kaggle/python Docker image: https://github.com/kaggle/docker-python\n",
    "# For example, here's several helpful packages to load\n",
    "\n",
    "import numpy as np # linear algebra\n",
    "import pandas as pd # data processing, CSV file I/O (e.g. pd.read_csv)\n",
    "\n",
    "# Input data files are available in the read-only \"../input/\" directory\n",
    "# For example, running this (by clicking run or pressing Shift+Enter) will list all files under the input directory\n",
    "\n",
    "import os\n",
    "for dirname, _, filenames in os.walk('/kaggle/input'):\n",
    "    for filename in filenames:\n",
    "        print(os.path.join(dirname, filename))\n",
    "\n",
    "# You can write up to 20GB to the current directory (/kaggle/working/) that gets preserved as output when you create a version using \"Save & Run All\" \n",
    "# You can also write temporary files to /kaggle/temp/, but they won't be saved outside of the current session"
   ]
  },
  {
   "cell_type": "code",
   "execution_count": 2,
   "id": "ea47e8a2",
   "metadata": {
    "execution": {
     "iopub.execute_input": "2025-01-11T19:55:53.242786Z",
     "iopub.status.busy": "2025-01-11T19:55:53.242319Z",
     "iopub.status.idle": "2025-01-11T19:55:53.246537Z",
     "shell.execute_reply": "2025-01-11T19:55:53.245638Z"
    },
    "papermill": {
     "duration": 0.010318,
     "end_time": "2025-01-11T19:55:53.248095",
     "exception": false,
     "start_time": "2025-01-11T19:55:53.237777",
     "status": "completed"
    },
    "tags": []
   },
   "outputs": [],
   "source": [
    "X = np.array([1.0,2.0])\n",
    "y = np.array([0.1,0.2])"
   ]
  },
  {
   "cell_type": "code",
   "execution_count": 3,
   "id": "7d646eb1",
   "metadata": {
    "execution": {
     "iopub.execute_input": "2025-01-11T19:55:53.256465Z",
     "iopub.status.busy": "2025-01-11T19:55:53.256139Z",
     "iopub.status.idle": "2025-01-11T19:55:53.262579Z",
     "shell.execute_reply": "2025-01-11T19:55:53.261154Z"
    },
    "papermill": {
     "duration": 0.012501,
     "end_time": "2025-01-11T19:55:53.264328",
     "exception": false,
     "start_time": "2025-01-11T19:55:53.251827",
     "status": "completed"
    },
    "tags": []
   },
   "outputs": [
    {
     "data": {
      "text/plain": [
       "2"
      ]
     },
     "execution_count": 3,
     "metadata": {},
     "output_type": "execute_result"
    }
   ],
   "source": [
    "X.shape[0]"
   ]
  },
  {
   "cell_type": "code",
   "execution_count": null,
   "id": "3a8e4011",
   "metadata": {
    "papermill": {
     "duration": 0.003561,
     "end_time": "2025-01-11T19:55:53.271760",
     "exception": false,
     "start_time": "2025-01-11T19:55:53.268199",
     "status": "completed"
    },
    "tags": []
   },
   "outputs": [],
   "source": []
  },
  {
   "cell_type": "code",
   "execution_count": 4,
   "id": "a8ea06f4",
   "metadata": {
    "execution": {
     "iopub.execute_input": "2025-01-11T19:55:53.281412Z",
     "iopub.status.busy": "2025-01-11T19:55:53.281017Z",
     "iopub.status.idle": "2025-01-11T19:55:53.285231Z",
     "shell.execute_reply": "2025-01-11T19:55:53.284252Z"
    },
    "papermill": {
     "duration": 0.010576,
     "end_time": "2025-01-11T19:55:53.286789",
     "exception": false,
     "start_time": "2025-01-11T19:55:53.276213",
     "status": "completed"
    },
    "tags": []
   },
   "outputs": [],
   "source": [
    "#Initialize W and b\n",
    "W = np.random.randn(2,)\n",
    "b = 0.0"
   ]
  },
  {
   "cell_type": "code",
   "execution_count": 5,
   "id": "0f70943e",
   "metadata": {
    "execution": {
     "iopub.execute_input": "2025-01-11T19:55:53.295678Z",
     "iopub.status.busy": "2025-01-11T19:55:53.295348Z",
     "iopub.status.idle": "2025-01-11T19:55:53.300297Z",
     "shell.execute_reply": "2025-01-11T19:55:53.299327Z"
    },
    "papermill": {
     "duration": 0.01129,
     "end_time": "2025-01-11T19:55:53.301880",
     "exception": false,
     "start_time": "2025-01-11T19:55:53.290590",
     "status": "completed"
    },
    "tags": []
   },
   "outputs": [],
   "source": [
    "def pred(x,y,w,b):\n",
    "    y_pred = np.dot(w,x)+b\n",
    "    return y_pred\n",
    "\n",
    "def cost_function(x,y,w,b):\n",
    "    m = x.shape[0]\n",
    "    y_pred = pred(x,y,w,b)\n",
    "    cost = (0.5/m)*np.sum((y_pred-y)**2)\n",
    "    print(f\"The Y_pred is {y_pred} and cost is {cost}\")\n",
    "    return cost"
   ]
  },
  {
   "cell_type": "code",
   "execution_count": 6,
   "id": "941e320b",
   "metadata": {
    "execution": {
     "iopub.execute_input": "2025-01-11T19:55:53.311068Z",
     "iopub.status.busy": "2025-01-11T19:55:53.310685Z",
     "iopub.status.idle": "2025-01-11T19:55:53.317380Z",
     "shell.execute_reply": "2025-01-11T19:55:53.316444Z"
    },
    "papermill": {
     "duration": 0.012932,
     "end_time": "2025-01-11T19:55:53.318957",
     "exception": false,
     "start_time": "2025-01-11T19:55:53.306025",
     "status": "completed"
    },
    "tags": []
   },
   "outputs": [
    {
     "name": "stdout",
     "output_type": "stream",
     "text": [
      "The Y_pred is -0.8978819326574254 and cost is 0.5502782723949304\n"
     ]
    },
    {
     "data": {
      "text/plain": [
       "0.5502782723949304"
      ]
     },
     "execution_count": 6,
     "metadata": {},
     "output_type": "execute_result"
    }
   ],
   "source": [
    "(cost_function(X,y,W,b))"
   ]
  },
  {
   "cell_type": "code",
   "execution_count": 7,
   "id": "a4f45953",
   "metadata": {
    "execution": {
     "iopub.execute_input": "2025-01-11T19:55:53.327740Z",
     "iopub.status.busy": "2025-01-11T19:55:53.327412Z",
     "iopub.status.idle": "2025-01-11T19:55:53.333512Z",
     "shell.execute_reply": "2025-01-11T19:55:53.332517Z"
    },
    "papermill": {
     "duration": 0.012152,
     "end_time": "2025-01-11T19:55:53.334975",
     "exception": false,
     "start_time": "2025-01-11T19:55:53.322823",
     "status": "completed"
    },
    "tags": []
   },
   "outputs": [],
   "source": [
    "def gradient_descent(x,y,w,b,alpha,num_iter):\n",
    "    m = x.shape[0]\n",
    "    cost_history = []\n",
    "    for i in range(num_iter):\n",
    "        y_pred = pred(x,y,w,b)\n",
    "        cost = cost_function(x,y,w,b)\n",
    "        cost_history.append(cost)\n",
    "        dw= (1/m)*x.T.dot(y_pred-y)\n",
    "        db=(1/m)*np.sum(y_pred-y)\n",
    "        w=w-alpha*dw\n",
    "        b=b-alpha*db\n",
    "    y_pred = pred(x,y,w,b)\n",
    "    final_cost = cost_function(x,y,w,b)\n",
    "    print(f'Final y is {y_pred} and final cost is {final_cost}')\n",
    "    return w,b,cost_history\n",
    "    \n",
    "    \n",
    "    "
   ]
  },
  {
   "cell_type": "code",
   "execution_count": 8,
   "id": "18e2e423",
   "metadata": {
    "execution": {
     "iopub.execute_input": "2025-01-11T19:55:53.343931Z",
     "iopub.status.busy": "2025-01-11T19:55:53.343624Z",
     "iopub.status.idle": "2025-01-11T19:55:53.349775Z",
     "shell.execute_reply": "2025-01-11T19:55:53.348786Z"
    },
    "papermill": {
     "duration": 0.012583,
     "end_time": "2025-01-11T19:55:53.351571",
     "exception": false,
     "start_time": "2025-01-11T19:55:53.338988",
     "status": "completed"
    },
    "tags": []
   },
   "outputs": [
    {
     "name": "stdout",
     "output_type": "stream",
     "text": [
      "The Y_pred is -0.8978819326574254 and cost is 0.5502782723949304\n",
      "The Y_pred is -0.3140468696958413 and cost is 0.10891974863725457\n",
      "The Y_pred is -0.05132109136312851 and cost is 0.021515090913820572\n",
      "The Y_pred is 0.06690550888659219 and cost is 0.0047023472266981056\n",
      "The Y_pred is 0.12010747899896657 and cost is 0.001696781405898613\n",
      "The Y_pred is 0.1440483655495349 and cost is 0.0012677109763159816\n",
      "Final y is 0.1440483655495349 and final cost is 0.0012677109763159816\n"
     ]
    }
   ],
   "source": [
    "w,b,cost_history = gradient_descent(X,y,W,b,0.1,5)"
   ]
  },
  {
   "cell_type": "code",
   "execution_count": 9,
   "id": "f6923667",
   "metadata": {
    "execution": {
     "iopub.execute_input": "2025-01-11T19:55:53.361013Z",
     "iopub.status.busy": "2025-01-11T19:55:53.360688Z",
     "iopub.status.idle": "2025-01-11T19:55:53.367785Z",
     "shell.execute_reply": "2025-01-11T19:55:53.366917Z"
    },
    "papermill": {
     "duration": 0.013419,
     "end_time": "2025-01-11T19:55:53.369289",
     "exception": false,
     "start_time": "2025-01-11T19:55:53.355870",
     "status": "completed"
    },
    "tags": []
   },
   "outputs": [
    {
     "data": {
      "text/plain": [
       "(array([-1.75946465,  0.86044466]), 0.18262369058308367)"
      ]
     },
     "execution_count": 9,
     "metadata": {},
     "output_type": "execute_result"
    }
   ],
   "source": [
    "w,b"
   ]
  },
  {
   "cell_type": "code",
   "execution_count": 10,
   "id": "c7dd1375",
   "metadata": {
    "execution": {
     "iopub.execute_input": "2025-01-11T19:55:53.378527Z",
     "iopub.status.busy": "2025-01-11T19:55:53.378225Z",
     "iopub.status.idle": "2025-01-11T19:55:53.383304Z",
     "shell.execute_reply": "2025-01-11T19:55:53.382362Z"
    },
    "papermill": {
     "duration": 0.011211,
     "end_time": "2025-01-11T19:55:53.384733",
     "exception": false,
     "start_time": "2025-01-11T19:55:53.373522",
     "status": "completed"
    },
    "tags": []
   },
   "outputs": [
    {
     "data": {
      "text/plain": [
       "[0.5502782723949304,\n",
       " 0.10891974863725457,\n",
       " 0.021515090913820572,\n",
       " 0.0047023472266981056,\n",
       " 0.001696781405898613]"
      ]
     },
     "execution_count": 10,
     "metadata": {},
     "output_type": "execute_result"
    }
   ],
   "source": [
    "cost_history"
   ]
  },
  {
   "cell_type": "code",
   "execution_count": 11,
   "id": "dedb9ba5",
   "metadata": {
    "execution": {
     "iopub.execute_input": "2025-01-11T19:55:53.394292Z",
     "iopub.status.busy": "2025-01-11T19:55:53.393932Z",
     "iopub.status.idle": "2025-01-11T19:55:54.728225Z",
     "shell.execute_reply": "2025-01-11T19:55:54.727160Z"
    },
    "papermill": {
     "duration": 1.341059,
     "end_time": "2025-01-11T19:55:54.730067",
     "exception": false,
     "start_time": "2025-01-11T19:55:53.389008",
     "status": "completed"
    },
    "tags": []
   },
   "outputs": [],
   "source": [
    "from sklearn.linear_model import LinearRegression\n"
   ]
  },
  {
   "cell_type": "code",
   "execution_count": 12,
   "id": "86b1a527",
   "metadata": {
    "execution": {
     "iopub.execute_input": "2025-01-11T19:55:54.740097Z",
     "iopub.status.busy": "2025-01-11T19:55:54.739494Z",
     "iopub.status.idle": "2025-01-11T19:55:54.744002Z",
     "shell.execute_reply": "2025-01-11T19:55:54.742976Z"
    },
    "papermill": {
     "duration": 0.011248,
     "end_time": "2025-01-11T19:55:54.745689",
     "exception": false,
     "start_time": "2025-01-11T19:55:54.734441",
     "status": "completed"
    },
    "tags": []
   },
   "outputs": [],
   "source": [
    "model = LinearRegression()"
   ]
  },
  {
   "cell_type": "code",
   "execution_count": 13,
   "id": "1fc93148",
   "metadata": {
    "execution": {
     "iopub.execute_input": "2025-01-11T19:55:54.755025Z",
     "iopub.status.busy": "2025-01-11T19:55:54.754631Z",
     "iopub.status.idle": "2025-01-11T19:55:54.780075Z",
     "shell.execute_reply": "2025-01-11T19:55:54.779136Z"
    },
    "papermill": {
     "duration": 0.031952,
     "end_time": "2025-01-11T19:55:54.781827",
     "exception": false,
     "start_time": "2025-01-11T19:55:54.749875",
     "status": "completed"
    },
    "tags": []
   },
   "outputs": [
    {
     "data": {
      "text/html": [
       "<style>#sk-container-id-1 {color: black;background-color: white;}#sk-container-id-1 pre{padding: 0;}#sk-container-id-1 div.sk-toggleable {background-color: white;}#sk-container-id-1 label.sk-toggleable__label {cursor: pointer;display: block;width: 100%;margin-bottom: 0;padding: 0.3em;box-sizing: border-box;text-align: center;}#sk-container-id-1 label.sk-toggleable__label-arrow:before {content: \"▸\";float: left;margin-right: 0.25em;color: #696969;}#sk-container-id-1 label.sk-toggleable__label-arrow:hover:before {color: black;}#sk-container-id-1 div.sk-estimator:hover label.sk-toggleable__label-arrow:before {color: black;}#sk-container-id-1 div.sk-toggleable__content {max-height: 0;max-width: 0;overflow: hidden;text-align: left;background-color: #f0f8ff;}#sk-container-id-1 div.sk-toggleable__content pre {margin: 0.2em;color: black;border-radius: 0.25em;background-color: #f0f8ff;}#sk-container-id-1 input.sk-toggleable__control:checked~div.sk-toggleable__content {max-height: 200px;max-width: 100%;overflow: auto;}#sk-container-id-1 input.sk-toggleable__control:checked~label.sk-toggleable__label-arrow:before {content: \"▾\";}#sk-container-id-1 div.sk-estimator input.sk-toggleable__control:checked~label.sk-toggleable__label {background-color: #d4ebff;}#sk-container-id-1 div.sk-label input.sk-toggleable__control:checked~label.sk-toggleable__label {background-color: #d4ebff;}#sk-container-id-1 input.sk-hidden--visually {border: 0;clip: rect(1px 1px 1px 1px);clip: rect(1px, 1px, 1px, 1px);height: 1px;margin: -1px;overflow: hidden;padding: 0;position: absolute;width: 1px;}#sk-container-id-1 div.sk-estimator {font-family: monospace;background-color: #f0f8ff;border: 1px dotted black;border-radius: 0.25em;box-sizing: border-box;margin-bottom: 0.5em;}#sk-container-id-1 div.sk-estimator:hover {background-color: #d4ebff;}#sk-container-id-1 div.sk-parallel-item::after {content: \"\";width: 100%;border-bottom: 1px solid gray;flex-grow: 1;}#sk-container-id-1 div.sk-label:hover label.sk-toggleable__label {background-color: #d4ebff;}#sk-container-id-1 div.sk-serial::before {content: \"\";position: absolute;border-left: 1px solid gray;box-sizing: border-box;top: 0;bottom: 0;left: 50%;z-index: 0;}#sk-container-id-1 div.sk-serial {display: flex;flex-direction: column;align-items: center;background-color: white;padding-right: 0.2em;padding-left: 0.2em;position: relative;}#sk-container-id-1 div.sk-item {position: relative;z-index: 1;}#sk-container-id-1 div.sk-parallel {display: flex;align-items: stretch;justify-content: center;background-color: white;position: relative;}#sk-container-id-1 div.sk-item::before, #sk-container-id-1 div.sk-parallel-item::before {content: \"\";position: absolute;border-left: 1px solid gray;box-sizing: border-box;top: 0;bottom: 0;left: 50%;z-index: -1;}#sk-container-id-1 div.sk-parallel-item {display: flex;flex-direction: column;z-index: 1;position: relative;background-color: white;}#sk-container-id-1 div.sk-parallel-item:first-child::after {align-self: flex-end;width: 50%;}#sk-container-id-1 div.sk-parallel-item:last-child::after {align-self: flex-start;width: 50%;}#sk-container-id-1 div.sk-parallel-item:only-child::after {width: 0;}#sk-container-id-1 div.sk-dashed-wrapped {border: 1px dashed gray;margin: 0 0.4em 0.5em 0.4em;box-sizing: border-box;padding-bottom: 0.4em;background-color: white;}#sk-container-id-1 div.sk-label label {font-family: monospace;font-weight: bold;display: inline-block;line-height: 1.2em;}#sk-container-id-1 div.sk-label-container {text-align: center;}#sk-container-id-1 div.sk-container {/* jupyter's `normalize.less` sets `[hidden] { display: none; }` but bootstrap.min.css set `[hidden] { display: none !important; }` so we also need the `!important` here to be able to override the default hidden behavior on the sphinx rendered scikit-learn.org. See: https://github.com/scikit-learn/scikit-learn/issues/21755 */display: inline-block !important;position: relative;}#sk-container-id-1 div.sk-text-repr-fallback {display: none;}</style><div id=\"sk-container-id-1\" class=\"sk-top-container\"><div class=\"sk-text-repr-fallback\"><pre>LinearRegression()</pre><b>In a Jupyter environment, please rerun this cell to show the HTML representation or trust the notebook. <br />On GitHub, the HTML representation is unable to render, please try loading this page with nbviewer.org.</b></div><div class=\"sk-container\" hidden><div class=\"sk-item\"><div class=\"sk-estimator sk-toggleable\"><input class=\"sk-toggleable__control sk-hidden--visually\" id=\"sk-estimator-id-1\" type=\"checkbox\" checked><label for=\"sk-estimator-id-1\" class=\"sk-toggleable__label sk-toggleable__label-arrow\">LinearRegression</label><div class=\"sk-toggleable__content\"><pre>LinearRegression()</pre></div></div></div></div></div>"
      ],
      "text/plain": [
       "LinearRegression()"
      ]
     },
     "execution_count": 13,
     "metadata": {},
     "output_type": "execute_result"
    }
   ],
   "source": [
    "X = np.array([1.0,2.0]).reshape(-1,1)\n",
    "y = np.array([0.1,0.2])\n",
    "model.fit(X,y)"
   ]
  },
  {
   "cell_type": "code",
   "execution_count": 14,
   "id": "69f308a0",
   "metadata": {
    "execution": {
     "iopub.execute_input": "2025-01-11T19:55:54.792113Z",
     "iopub.status.busy": "2025-01-11T19:55:54.791665Z",
     "iopub.status.idle": "2025-01-11T19:55:54.797731Z",
     "shell.execute_reply": "2025-01-11T19:55:54.796879Z"
    },
    "papermill": {
     "duration": 0.013111,
     "end_time": "2025-01-11T19:55:54.799487",
     "exception": false,
     "start_time": "2025-01-11T19:55:54.786376",
     "status": "completed"
    },
    "tags": []
   },
   "outputs": [
    {
     "data": {
      "text/plain": [
       "(array([0.1]), 8.326672684688674e-17)"
      ]
     },
     "execution_count": 14,
     "metadata": {},
     "output_type": "execute_result"
    }
   ],
   "source": [
    "model.coef_,model.intercept_"
   ]
  },
  {
   "cell_type": "code",
   "execution_count": null,
   "id": "6f9540be",
   "metadata": {
    "papermill": {
     "duration": 0.00406,
     "end_time": "2025-01-11T19:55:54.808155",
     "exception": false,
     "start_time": "2025-01-11T19:55:54.804095",
     "status": "completed"
    },
    "tags": []
   },
   "outputs": [],
   "source": []
  }
 ],
 "metadata": {
  "kaggle": {
   "accelerator": "none",
   "dataSources": [],
   "dockerImageVersionId": 30822,
   "isGpuEnabled": false,
   "isInternetEnabled": true,
   "language": "python",
   "sourceType": "notebook"
  },
  "kernelspec": {
   "display_name": "Python 3",
   "language": "python",
   "name": "python3"
  },
  "language_info": {
   "codemirror_mode": {
    "name": "ipython",
    "version": 3
   },
   "file_extension": ".py",
   "mimetype": "text/x-python",
   "name": "python",
   "nbconvert_exporter": "python",
   "pygments_lexer": "ipython3",
   "version": "3.10.12"
  },
  "papermill": {
   "default_parameters": {},
   "duration": 4.677193,
   "end_time": "2025-01-11T19:55:55.433361",
   "environment_variables": {},
   "exception": null,
   "input_path": "__notebook__.ipynb",
   "output_path": "__notebook__.ipynb",
   "parameters": {},
   "start_time": "2025-01-11T19:55:50.756168",
   "version": "2.6.0"
  }
 },
 "nbformat": 4,
 "nbformat_minor": 5
}
