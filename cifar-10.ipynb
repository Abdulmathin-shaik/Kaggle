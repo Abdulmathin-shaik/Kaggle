{
 "cells": [
  {
   "cell_type": "code",
   "execution_count": 1,
   "id": "42b4c0e8",
   "metadata": {
    "_cell_guid": "b1076dfc-b9ad-4769-8c92-a6c4dae69d19",
    "_uuid": "8f2839f25d086af736a60e9eeb907d3b93b6e0e5",
    "execution": {
     "iopub.execute_input": "2024-12-12T04:01:32.100592Z",
     "iopub.status.busy": "2024-12-12T04:01:32.100191Z",
     "iopub.status.idle": "2024-12-12T04:01:32.761991Z",
     "shell.execute_reply": "2024-12-12T04:01:32.761068Z"
    },
    "papermill": {
     "duration": 0.668872,
     "end_time": "2024-12-12T04:01:32.764048",
     "exception": false,
     "start_time": "2024-12-12T04:01:32.095176",
     "status": "completed"
    },
    "tags": []
   },
   "outputs": [
    {
     "name": "stdout",
     "output_type": "stream",
     "text": [
      "/kaggle/input/cifar10-python/cifar-10-python.tar.gz\n",
      "/kaggle/input/cifar10-python/cifar-10-batches-py/data_batch_1\n",
      "/kaggle/input/cifar10-python/cifar-10-batches-py/data_batch_2\n",
      "/kaggle/input/cifar10-python/cifar-10-batches-py/batches.meta\n",
      "/kaggle/input/cifar10-python/cifar-10-batches-py/test_batch\n",
      "/kaggle/input/cifar10-python/cifar-10-batches-py/data_batch_3\n",
      "/kaggle/input/cifar10-python/cifar-10-batches-py/data_batch_5\n",
      "/kaggle/input/cifar10-python/cifar-10-batches-py/data_batch_4\n",
      "/kaggle/input/cifar10-python/cifar-10-batches-py/readme.html\n"
     ]
    }
   ],
   "source": [
    "# This Python 3 environment comes with many helpful analytics libraries installed\n",
    "# It is defined by the kaggle/python Docker image: https://github.com/kaggle/docker-python\n",
    "# For example, here's several helpful packages to load\n",
    "\n",
    "import numpy as np # linear algebra\n",
    "import pandas as pd # data processing, CSV file I/O (e.g. pd.read_csv)\n",
    "\n",
    "# Input data files are available in the read-only \"../input/\" directory\n",
    "# For example, running this (by clicking run or pressing Shift+Enter) will list all files under the input directory\n",
    "\n",
    "import os\n",
    "for dirname, _, filenames in os.walk('/kaggle/input'):\n",
    "    for filename in filenames:\n",
    "        print(os.path.join(dirname, filename))\n",
    "\n",
    "# You can write up to 20GB to the current directory (/kaggle/working/) that gets preserved as output when you create a version using \"Save & Run All\" \n",
    "# You can also write temporary files to /kaggle/temp/, but they won't be saved outside of the current session"
   ]
  },
  {
   "cell_type": "code",
   "execution_count": 2,
   "id": "e08c01b0",
   "metadata": {
    "execution": {
     "iopub.execute_input": "2024-12-12T04:01:32.771706Z",
     "iopub.status.busy": "2024-12-12T04:01:32.771339Z",
     "iopub.status.idle": "2024-12-12T04:01:37.203521Z",
     "shell.execute_reply": "2024-12-12T04:01:37.202528Z"
    },
    "papermill": {
     "duration": 4.438174,
     "end_time": "2024-12-12T04:01:37.205714",
     "exception": false,
     "start_time": "2024-12-12T04:01:32.767540",
     "status": "completed"
    },
    "tags": []
   },
   "outputs": [],
   "source": [
    "from torch.utils.data import Dataset, DataLoader\n",
    "from torchvision import transforms\n",
    "import torch\n",
    "import torch.nn as nn\n",
    "import cv2\n",
    "import matplotlib.pyplot as plt"
   ]
  },
  {
   "cell_type": "code",
   "execution_count": 3,
   "id": "e7762d77",
   "metadata": {
    "execution": {
     "iopub.execute_input": "2024-12-12T04:01:37.217122Z",
     "iopub.status.busy": "2024-12-12T04:01:37.216735Z",
     "iopub.status.idle": "2024-12-12T04:01:37.221336Z",
     "shell.execute_reply": "2024-12-12T04:01:37.220496Z"
    },
    "papermill": {
     "duration": 0.011965,
     "end_time": "2024-12-12T04:01:37.222937",
     "exception": false,
     "start_time": "2024-12-12T04:01:37.210972",
     "status": "completed"
    },
    "tags": []
   },
   "outputs": [],
   "source": [
    "import pickle\n",
    "import numpy as np\n",
    "\n",
    "def unpickle(file):\n",
    "    with open(file, 'rb') as f:\n",
    "        dict = pickle.load(f, encoding='bytes')\n",
    "    return dict"
   ]
  },
  {
   "cell_type": "code",
   "execution_count": 4,
   "id": "b188a9b9",
   "metadata": {
    "execution": {
     "iopub.execute_input": "2024-12-12T04:01:37.229688Z",
     "iopub.status.busy": "2024-12-12T04:01:37.229457Z",
     "iopub.status.idle": "2024-12-12T04:01:37.234976Z",
     "shell.execute_reply": "2024-12-12T04:01:37.234182Z"
    },
    "papermill": {
     "duration": 0.010689,
     "end_time": "2024-12-12T04:01:37.236518",
     "exception": false,
     "start_time": "2024-12-12T04:01:37.225829",
     "status": "completed"
    },
    "tags": []
   },
   "outputs": [],
   "source": [
    "def load_cifar10_data(data_dir):\n",
    "    train_data = []\n",
    "    train_labels = []\n",
    "\n",
    "    # Load training batches\n",
    "    for i in range(1, 6):\n",
    "        batch = unpickle(f\"{data_dir}/data_batch_{i}\")\n",
    "        train_data.append(batch[b'data'])\n",
    "        train_labels += batch[b'labels']\n",
    "\n",
    "    train_data = np.concatenate(train_data, axis=0)\n",
    "    train_data = train_data.reshape(-1, 3, 32, 32).transpose(0, 2, 3, 1)  # Reshape to (N, H, W, C)\n",
    "    train_labels = np.array(train_labels)\n",
    "\n",
    "    # Load test batch\n",
    "    test_batch = unpickle(f\"{data_dir}/test_batch\")\n",
    "    test_data = test_batch[b'data'].reshape(-1, 3, 32, 32).transpose(0, 2, 3, 1)\n",
    "    test_labels = np.array(test_batch[b'labels'])\n",
    "\n",
    "    return (train_data, train_labels), (test_data, test_labels)\n"
   ]
  },
  {
   "cell_type": "code",
   "execution_count": 5,
   "id": "c44dcc44",
   "metadata": {
    "execution": {
     "iopub.execute_input": "2024-12-12T04:01:37.244250Z",
     "iopub.status.busy": "2024-12-12T04:01:37.243981Z",
     "iopub.status.idle": "2024-12-12T04:01:40.353320Z",
     "shell.execute_reply": "2024-12-12T04:01:40.352624Z"
    },
    "papermill": {
     "duration": 3.114962,
     "end_time": "2024-12-12T04:01:40.355430",
     "exception": false,
     "start_time": "2024-12-12T04:01:37.240468",
     "status": "completed"
    },
    "tags": []
   },
   "outputs": [],
   "source": [
    "\n",
    "\n",
    "class CIFAR10Dataset(Dataset):\n",
    "    def __init__(self, data, labels, transform=None):\n",
    "        self.data = data\n",
    "        self.labels = labels\n",
    "        self.transform = transform\n",
    "\n",
    "    def __len__(self):\n",
    "        return len(self.data)\n",
    "\n",
    "    def __getitem__(self, idx):\n",
    "        image = self.data[idx]\n",
    "        label = self.labels[idx]\n",
    "\n",
    "        if self.transform:\n",
    "            image = self.transform(image)\n",
    "\n",
    "        return image, label\n",
    "\n",
    "# Load data\n",
    "(data_dir) = '/kaggle/input/cifar10-python/cifar-10-batches-py'\n",
    "(train_data, train_labels), (test_data, test_labels) = load_cifar10_data(data_dir)\n"
   ]
  },
  {
   "cell_type": "code",
   "execution_count": 6,
   "id": "2b89f27e",
   "metadata": {
    "execution": {
     "iopub.execute_input": "2024-12-12T04:01:40.362915Z",
     "iopub.status.busy": "2024-12-12T04:01:40.362648Z",
     "iopub.status.idle": "2024-12-12T04:01:40.367440Z",
     "shell.execute_reply": "2024-12-12T04:01:40.366712Z"
    },
    "papermill": {
     "duration": 0.010204,
     "end_time": "2024-12-12T04:01:40.368997",
     "exception": false,
     "start_time": "2024-12-12T04:01:40.358793",
     "status": "completed"
    },
    "tags": []
   },
   "outputs": [],
   "source": [
    "# Define transformations\n",
    "transform = transforms.Compose([\n",
    "    transforms.ToTensor(),\n",
    "    transforms.Normalize((0.5, 0.5, 0.5), (0.5, 0.5, 0.5))\n",
    "])\n",
    "\n",
    "# Create PyTorch datasets and loaders\n",
    "train_dataset = CIFAR10Dataset(train_data, train_labels, transform=transform)\n",
    "test_dataset = CIFAR10Dataset(test_data, test_labels, transform=transform)\n",
    "\n",
    "train_loader = DataLoader(train_dataset, batch_size=100, shuffle=True)\n",
    "test_loader = DataLoader(test_dataset, batch_size=100, shuffle=False)"
   ]
  },
  {
   "cell_type": "code",
   "execution_count": 7,
   "id": "5d7ce9fb",
   "metadata": {
    "execution": {
     "iopub.execute_input": "2024-12-12T04:01:40.375891Z",
     "iopub.status.busy": "2024-12-12T04:01:40.375648Z",
     "iopub.status.idle": "2024-12-12T04:01:40.458602Z",
     "shell.execute_reply": "2024-12-12T04:01:40.457917Z"
    },
    "papermill": {
     "duration": 0.088219,
     "end_time": "2024-12-12T04:01:40.460240",
     "exception": false,
     "start_time": "2024-12-12T04:01:40.372021",
     "status": "completed"
    },
    "tags": []
   },
   "outputs": [],
   "source": [
    "device = 'cuda' if torch.cuda.is_available() else 'cpu'"
   ]
  },
  {
   "cell_type": "code",
   "execution_count": 8,
   "id": "12b128bf",
   "metadata": {
    "execution": {
     "iopub.execute_input": "2024-12-12T04:01:40.467406Z",
     "iopub.status.busy": "2024-12-12T04:01:40.467148Z",
     "iopub.status.idle": "2024-12-12T04:01:40.472428Z",
     "shell.execute_reply": "2024-12-12T04:01:40.471777Z"
    },
    "papermill": {
     "duration": 0.010458,
     "end_time": "2024-12-12T04:01:40.473862",
     "exception": false,
     "start_time": "2024-12-12T04:01:40.463404",
     "status": "completed"
    },
    "tags": []
   },
   "outputs": [],
   "source": [
    "class CNN(nn.Module):\n",
    "    def __init__(self):\n",
    "        super(CNN,self).__init__()\n",
    "        self.conv_layer = nn.Sequential(\n",
    "            nn.Conv2d(in_channels=3,out_channels=32,kernel_size=3,stride=1),\n",
    "            nn.ReLU(),\n",
    "            nn.Conv2d(32,64,3,1),\n",
    "            nn.ReLU(),\n",
    "            nn.MaxPool2d(2),\n",
    "            nn.Conv2d(64,128,3,1),\n",
    "            nn.ReLU(),\n",
    "            nn.MaxPool2d(2),\n",
    "            nn.Flatten(),\n",
    "            nn.Linear(4608,512),\n",
    "            nn.ReLU(),\n",
    "            nn.Linear(512,10)\n",
    "        )\n",
    "\n",
    "    def forward(self,x):\n",
    "        x = self.conv_layer(x)\n",
    "        return x"
   ]
  },
  {
   "cell_type": "code",
   "execution_count": 9,
   "id": "c5b580d1",
   "metadata": {
    "execution": {
     "iopub.execute_input": "2024-12-12T04:01:40.480658Z",
     "iopub.status.busy": "2024-12-12T04:01:40.480434Z",
     "iopub.status.idle": "2024-12-12T04:01:40.486175Z",
     "shell.execute_reply": "2024-12-12T04:01:40.485391Z"
    },
    "papermill": {
     "duration": 0.010912,
     "end_time": "2024-12-12T04:01:40.487734",
     "exception": false,
     "start_time": "2024-12-12T04:01:40.476822",
     "status": "completed"
    },
    "tags": []
   },
   "outputs": [
    {
     "data": {
      "text/plain": [
       "67.88225099390856"
      ]
     },
     "execution_count": 9,
     "metadata": {},
     "output_type": "execute_result"
    }
   ],
   "source": [
    "np.sqrt(4608)"
   ]
  },
  {
   "cell_type": "code",
   "execution_count": 10,
   "id": "4dbc51af",
   "metadata": {
    "execution": {
     "iopub.execute_input": "2024-12-12T04:01:40.494619Z",
     "iopub.status.busy": "2024-12-12T04:01:40.494393Z",
     "iopub.status.idle": "2024-12-12T04:01:40.736666Z",
     "shell.execute_reply": "2024-12-12T04:01:40.735862Z"
    },
    "papermill": {
     "duration": 0.247965,
     "end_time": "2024-12-12T04:01:40.738683",
     "exception": false,
     "start_time": "2024-12-12T04:01:40.490718",
     "status": "completed"
    },
    "tags": []
   },
   "outputs": [],
   "source": [
    "model = CNN().to(device)"
   ]
  },
  {
   "cell_type": "code",
   "execution_count": 11,
   "id": "20f55c44",
   "metadata": {
    "execution": {
     "iopub.execute_input": "2024-12-12T04:01:40.746671Z",
     "iopub.status.busy": "2024-12-12T04:01:40.746412Z",
     "iopub.status.idle": "2024-12-12T04:01:40.750266Z",
     "shell.execute_reply": "2024-12-12T04:01:40.749578Z"
    },
    "papermill": {
     "duration": 0.009549,
     "end_time": "2024-12-12T04:01:40.751918",
     "exception": false,
     "start_time": "2024-12-12T04:01:40.742369",
     "status": "completed"
    },
    "tags": []
   },
   "outputs": [],
   "source": [
    "import torch.optim as optim"
   ]
  },
  {
   "cell_type": "code",
   "execution_count": 12,
   "id": "400448e6",
   "metadata": {
    "execution": {
     "iopub.execute_input": "2024-12-12T04:01:40.759044Z",
     "iopub.status.busy": "2024-12-12T04:01:40.758794Z",
     "iopub.status.idle": "2024-12-12T04:01:40.762757Z",
     "shell.execute_reply": "2024-12-12T04:01:40.761989Z"
    },
    "papermill": {
     "duration": 0.009327,
     "end_time": "2024-12-12T04:01:40.764357",
     "exception": false,
     "start_time": "2024-12-12T04:01:40.755030",
     "status": "completed"
    },
    "tags": []
   },
   "outputs": [],
   "source": [
    "optimizer = optim.SGD(model.parameters(),lr=1e-04)\n",
    "loss_fn = nn.CrossEntropyLoss()\n",
    "epochs = 10"
   ]
  },
  {
   "cell_type": "code",
   "execution_count": 13,
   "id": "19bbbe62",
   "metadata": {
    "execution": {
     "iopub.execute_input": "2024-12-12T04:01:40.772658Z",
     "iopub.status.busy": "2024-12-12T04:01:40.772000Z",
     "iopub.status.idle": "2024-12-12T04:03:13.244777Z",
     "shell.execute_reply": "2024-12-12T04:03:13.243790Z"
    },
    "papermill": {
     "duration": 92.478668,
     "end_time": "2024-12-12T04:03:13.246598",
     "exception": false,
     "start_time": "2024-12-12T04:01:40.767930",
     "status": "completed"
    },
    "tags": []
   },
   "outputs": [
    {
     "name": "stdout",
     "output_type": "stream",
     "text": [
      "Epoch: 0 | Train loss: 2.302473039150238\n",
      "Test_loss 2.302074661254883 | Accuracy 9.99\n",
      "Epoch: 1 | Train loss: 2.3019743223190305\n",
      "Test_loss 2.301564588546753 | Accuracy 10.22\n",
      "Epoch: 2 | Train loss: 2.301473689079285\n",
      "Test_loss 2.3010514879226687 | Accuracy 10.49\n",
      "Epoch: 3 | Train loss: 2.300969730377197\n",
      "Test_loss 2.300533595085144 | Accuracy 10.55\n",
      "Epoch: 4 | Train loss: 2.300460841655731\n",
      "Test_loss 2.300009741783142 | Accuracy 10.78\n",
      "Epoch: 5 | Train loss: 2.299945704460144\n",
      "Test_loss 2.2994789814949037 | Accuracy 10.96\n",
      "Epoch: 6 | Train loss: 2.299423637866974\n",
      "Test_loss 2.298940055370331 | Accuracy 11.2\n",
      "Epoch: 7 | Train loss: 2.2988923697471617\n",
      "Test_loss 2.298391332626343 | Accuracy 11.51\n",
      "Epoch: 8 | Train loss: 2.2983505935668944\n",
      "Test_loss 2.297832119464874 | Accuracy 11.88\n",
      "Epoch: 9 | Train loss: 2.2977970910072325\n",
      "Test_loss 2.2972595477104187 | Accuracy 12.38\n"
     ]
    }
   ],
   "source": [
    "train_losses,test_losses = [],[]\n",
    "for epoch in range(epochs):\n",
    "    model.train()\n",
    "    train_loss =0\n",
    "    for batch,(x,y) in enumerate(train_loader):\n",
    "        x = x.to(device)\n",
    "        y = y.to(device)\n",
    "        pred = model(x)\n",
    "        loss = loss_fn(pred,y)\n",
    "        loss.backward()\n",
    "        optimizer.step()\n",
    "        optimizer.zero_grad()\n",
    "\n",
    "        #Metrics \n",
    "        train_loss += loss.item()\n",
    "        \n",
    "    avg_loss = train_loss/len(train_loader)\n",
    "    train_losses.append(avg_loss)\n",
    "    print(f'Epoch: {epoch} | Train loss: {avg_loss}')\n",
    "\n",
    "    model.eval()\n",
    "    with torch.no_grad():\n",
    "        test_loss,correct=0,0\n",
    "        for batch,(x,y) in enumerate(test_loader):\n",
    "            x = x.to(device)\n",
    "            y = y.to(device)\n",
    "            pred = model(x)\n",
    "            loss = loss_fn(pred,y)\n",
    "\n",
    "            test_loss += loss.item()\n",
    "            correct += ((torch.argmax(torch.softmax(pred,dim=1),dim=1)==y).sum().item())\n",
    "        avg_test_loss = test_loss/len(test_loader)\n",
    "        avg_correct = correct/len(test_loader)\n",
    "        test_losses.append(avg_test_loss)\n",
    "        print(f'Test_loss {avg_test_loss} | Accuracy {avg_correct}')"
   ]
  },
  {
   "cell_type": "code",
   "execution_count": 14,
   "id": "9657597d",
   "metadata": {
    "execution": {
     "iopub.execute_input": "2024-12-12T04:03:13.256183Z",
     "iopub.status.busy": "2024-12-12T04:03:13.255426Z",
     "iopub.status.idle": "2024-12-12T04:03:13.263991Z",
     "shell.execute_reply": "2024-12-12T04:03:13.263273Z"
    },
    "papermill": {
     "duration": 0.01487,
     "end_time": "2024-12-12T04:03:13.265561",
     "exception": false,
     "start_time": "2024-12-12T04:03:13.250691",
     "status": "completed"
    },
    "tags": []
   },
   "outputs": [
    {
     "data": {
      "text/plain": [
       "tensor(13, device='cuda:0')"
      ]
     },
     "execution_count": 14,
     "metadata": {},
     "output_type": "execute_result"
    }
   ],
   "source": [
    "(torch.argmax(torch.softmax(pred,dim=1),dim=1)==y).sum()"
   ]
  },
  {
   "cell_type": "code",
   "execution_count": 15,
   "id": "7527cf8f",
   "metadata": {
    "execution": {
     "iopub.execute_input": "2024-12-12T04:03:13.274488Z",
     "iopub.status.busy": "2024-12-12T04:03:13.274027Z",
     "iopub.status.idle": "2024-12-12T04:03:13.514054Z",
     "shell.execute_reply": "2024-12-12T04:03:13.513183Z"
    },
    "papermill": {
     "duration": 0.246327,
     "end_time": "2024-12-12T04:03:13.515804",
     "exception": false,
     "start_time": "2024-12-12T04:03:13.269477",
     "status": "completed"
    },
    "tags": []
   },
   "outputs": [
    {
     "data": {
      "text/plain": [
       "[<matplotlib.lines.Line2D at 0x7ed14f11b550>]"
      ]
     },
     "execution_count": 15,
     "metadata": {},
     "output_type": "execute_result"
    },
    {
     "data": {
      "image/png": "[encoded data removed]",
      "text/plain": [
       "<Figure size 640x480 with 1 Axes>"
      ]
     },
     "metadata": {},
     "output_type": "display_data"
    }
   ],
   "source": [
    "plt.plot(train_losses)\n",
    "plt.plot(test_losses)"
   ]
  },
  {
   "cell_type": "code",
   "execution_count": null,
   "id": "ac8d7bca",
   "metadata": {
    "papermill": {
     "duration": 0.004472,
     "end_time": "2024-12-12T04:03:13.524972",
     "exception": false,
     "start_time": "2024-12-12T04:03:13.520500",
     "status": "completed"
    },
    "tags": []
   },
   "outputs": [],
   "source": []
  }
 ],
 "metadata": {
  "kaggle": {
   "accelerator": "nvidiaTeslaT4",
   "dataSources": [
    {
     "datasetId": 11102,
     "sourceId": 15444,
     "sourceType": "datasetVersion"
    }
   ],
   "dockerImageVersionId": 30804,
   "isGpuEnabled": true,
   "isInternetEnabled": true,
   "language": "python",
   "sourceType": "notebook"
  },
  "kernelspec": {
   "display_name": "Python 3",
   "language": "python",
   "name": "python3"
  },
  "language_info": {
   "codemirror_mode": {
    "name": "ipython",
    "version": 3
   },
   "file_extension": ".py",
   "mimetype": "text/x-python",
   "name": "python",
   "nbconvert_exporter": "python",
   "pygments_lexer": "ipython3",
   "version": "3.10.14"
  },
  "papermill": {
   "default_parameters": {},
   "duration": 105.180484,
   "end_time": "2024-12-12T04:03:14.849123",
   "environment_variables": {},
   "exception": null,
   "input_path": "__notebook__.ipynb",
   "output_path": "__notebook__.ipynb",
   "parameters": {},
   "start_time": "2024-12-12T04:01:29.668639",
   "version": "2.6.0"
  }
 },
 "nbformat": 4,
 "nbformat_minor": 5
}
